{
 "cells": [
  {
   "cell_type": "markdown",
   "id": "8d291d3d",
   "metadata": {},
   "source": [
    "## Intro To Jupyter\n",
    "\n",
    "We can writedown code or notes in our cells, by choosing the markdown from above."
   ]
  },
  {
   "cell_type": "code",
   "execution_count": 1,
   "id": "fcd66464",
   "metadata": {},
   "outputs": [
    {
     "name": "stdout",
     "output_type": "stream",
     "text": [
      "Heyy Jupyterrr, it's Keshav Vashishta this side :) \n"
     ]
    }
   ],
   "source": [
    "print(\"Heyy Jupyterrr, it's Keshav Vashishta this side :) \")"
   ]
  },
  {
   "cell_type": "markdown",
   "id": "eb3164d9",
   "metadata": {},
   "source": [
    "## ........................................................................................................................................................."
   ]
  },
  {
   "cell_type": "markdown",
   "id": "278bd7cb",
   "metadata": {},
   "source": [
    "## Intro to Variables."
   ]
  },
  {
   "cell_type": "markdown",
   "id": "4951df03",
   "metadata": {},
   "source": [
    "#Sum of two Numbers.\n",
    "Take two numbers and return addition in output."
   ]
  },
  {
   "cell_type": "code",
   "execution_count": 4,
   "id": "06ff1dcd",
   "metadata": {},
   "outputs": [
    {
     "data": {
      "text/plain": [
       "57"
      ]
     },
     "execution_count": 4,
     "metadata": {},
     "output_type": "execute_result"
    }
   ],
   "source": [
    "num1 = 10\n",
    "num2 = 47\n",
    "num1 + num2\n",
    "#In this the num1 + num2 is the output of the cell 2."
   ]
  },
  {
   "cell_type": "code",
   "execution_count": 5,
   "id": "7cb079d4",
   "metadata": {},
   "outputs": [
    {
     "name": "stdout",
     "output_type": "stream",
     "text": [
      "Enter the number one: 45\n",
      "Enter the second number for performing addition of numbers: 55\n",
      "100\n"
     ]
    }
   ],
   "source": [
    "num1 = int(input(\"Enter the number one: \"))\n",
    "num2 = int(input(\"Enter the second number for performing addition of numbers: \"))\n",
    "print(num1+num2)\n",
    "#In this the final answer is a printing statement of cell 3."
   ]
  },
  {
   "cell_type": "markdown",
   "id": "6d2a4e8d",
   "metadata": {},
   "source": [
    "#### Assigning different types of data to the Variables.\n"
   ]
  },
  {
   "cell_type": "code",
   "execution_count": 2,
   "id": "cf4677a2",
   "metadata": {},
   "outputs": [
    {
     "name": "stdout",
     "output_type": "stream",
     "text": [
      "9958983325 2608\n"
     ]
    }
   ],
   "source": [
    "num1 = 100\n",
    "num2 = 2608\n",
    "\n",
    "num1 = \"9958983325\"\n",
    "print(num1, num2)"
   ]
  },
  {
   "cell_type": "code",
   "execution_count": 6,
   "id": "aaf90105",
   "metadata": {},
   "outputs": [
    {
     "name": "stdout",
     "output_type": "stream",
     "text": [
      "<class 'str'>\n",
      "<class 'int'>\n"
     ]
    }
   ],
   "source": [
    "print(type(num1))\n",
    "print(type(num2))"
   ]
  },
  {
   "cell_type": "code",
   "execution_count": null,
   "id": "c256901d",
   "metadata": {},
   "outputs": [],
   "source": []
  }
 ],
 "metadata": {
  "kernelspec": {
   "display_name": "Python 3 (ipykernel)",
   "language": "python",
   "name": "python3"
  },
  "language_info": {
   "codemirror_mode": {
    "name": "ipython",
    "version": 3
   },
   "file_extension": ".py",
   "mimetype": "text/x-python",
   "name": "python",
   "nbconvert_exporter": "python",
   "pygments_lexer": "ipython3",
   "version": "3.9.7"
  }
 },
 "nbformat": 4,
 "nbformat_minor": 5
}
