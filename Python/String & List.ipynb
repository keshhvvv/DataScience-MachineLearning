{
 "cells": [
  {
   "cell_type": "markdown",
   "id": "21a06176",
   "metadata": {},
   "source": [
    "# Strings"
   ]
  },
  {
   "cell_type": "code",
   "execution_count": 39,
   "id": "e7ee1531",
   "metadata": {},
   "outputs": [
    {
     "name": "stdout",
     "output_type": "stream",
     "text": [
      "Keshav Vashishta\n"
     ]
    }
   ],
   "source": [
    "str1 = \"Keshav\"\n",
    "str2 = 'Vashishta'\n",
    "print(str1 +\" \"+ str2)"
   ]
  },
  {
   "cell_type": "code",
   "execution_count": 40,
   "id": "6892ecc7",
   "metadata": {},
   "outputs": [
    {
     "data": {
      "text/plain": [
       "str"
      ]
     },
     "execution_count": 40,
     "metadata": {},
     "output_type": "execute_result"
    }
   ],
   "source": [
    "char = 'a'\n",
    "type(char)"
   ]
  },
  {
   "cell_type": "code",
   "execution_count": 41,
   "id": "5310b878",
   "metadata": {},
   "outputs": [
    {
     "name": "stdout",
     "output_type": "stream",
     "text": [
      "K\n",
      "h\n"
     ]
    }
   ],
   "source": [
    "print(str1[0])\n",
    "print(str2[6])\n"
   ]
  },
  {
   "cell_type": "markdown",
   "id": "94dc784a",
   "metadata": {},
   "source": [
    "#### Iteration in String"
   ]
  },
  {
   "cell_type": "code",
   "execution_count": 42,
   "id": "52201d1e",
   "metadata": {},
   "outputs": [
    {
     "name": "stdout",
     "output_type": "stream",
     "text": [
      "K\n",
      "e\n",
      "s\n",
      "h\n",
      "a\n",
      "v\n"
     ]
    }
   ],
   "source": [
    "for chars in str1:\n",
    "    print(chars)"
   ]
  },
  {
   "cell_type": "markdown",
   "id": "28689ee6",
   "metadata": {},
   "source": [
    "#### String are Immutable, they can't be changed, we can make a new string and make our variable pointing toward the new string."
   ]
  },
  {
   "cell_type": "code",
   "execution_count": 43,
   "id": "d514d444",
   "metadata": {},
   "outputs": [],
   "source": [
    "str1 = \"What is it?\"\n",
    "#str1 variable stores the address value of the string \"What is it?\"\n",
    "\n",
    "str1 = \"error?\"\n",
    "#Now str1 is storing the address value of the string \"error?\"\n",
    "#So the respective strings are same, they can't change insted we make our variable to point to another string."
   ]
  },
  {
   "cell_type": "markdown",
   "id": "20d9be24",
   "metadata": {},
   "source": [
    "#### Making quote problem solved in the sentences"
   ]
  },
  {
   "cell_type": "code",
   "execution_count": 44,
   "id": "1814fc76",
   "metadata": {},
   "outputs": [
    {
     "ename": "SyntaxError",
     "evalue": "invalid syntax (Temp/ipykernel_4092/3475538524.py, line 1)",
     "output_type": "error",
     "traceback": [
      "\u001b[1;36m  File \u001b[1;32m\"C:\\Users\\Keshav Vashishta\\AppData\\Local\\Temp/ipykernel_4092/3475538524.py\"\u001b[1;36m, line \u001b[1;32m1\u001b[0m\n\u001b[1;33m    str1 = 'This is Keshav's laptop'\u001b[0m\n\u001b[1;37m                           ^\u001b[0m\n\u001b[1;31mSyntaxError\u001b[0m\u001b[1;31m:\u001b[0m invalid syntax\n"
     ]
    }
   ],
   "source": [
    "str1 = 'This is Keshav's laptop'\n",
    "#This will give error because python can't find out the closing quote after keshav's v."
   ]
  },
  {
   "cell_type": "code",
   "execution_count": 45,
   "id": "21507689",
   "metadata": {},
   "outputs": [],
   "source": [
    "#One way to solved it is by using external double quote.\n",
    "str1 = \"This is Keshav's laptop.\"\n",
    "\n",
    "#Another way to solve this is by using \"\\\" which say's python that it is not closing quote of the string.\n",
    "str1 = 'This is Keshav\\'s laptop' \n",
    "str2 = 'Laptop says \"Hello Sir\"' "
   ]
  },
  {
   "cell_type": "code",
   "execution_count": 46,
   "id": "e3ff6bc0",
   "metadata": {},
   "outputs": [
    {
     "data": {
      "text/plain": [
       "(\"This is Keshav's laptop\", 'Laptop says \"Hello Sir\"')"
      ]
     },
     "execution_count": 46,
     "metadata": {},
     "output_type": "execute_result"
    }
   ],
   "source": [
    "str1 ,str2"
   ]
  },
  {
   "cell_type": "code",
   "execution_count": 47,
   "id": "ba0aba7a",
   "metadata": {},
   "outputs": [
    {
     "data": {
      "text/plain": [
       "'This is Keshav\\'s laptop Laptop says \"Hello Sir\"'"
      ]
     },
     "execution_count": 47,
     "metadata": {},
     "output_type": "execute_result"
    }
   ],
   "source": [
    "str1 +\" \"+ str2"
   ]
  },
  {
   "cell_type": "code",
   "execution_count": 48,
   "id": "00fc3782",
   "metadata": {},
   "outputs": [],
   "source": [
    "str1 = (str1 + \" \" + str2)"
   ]
  },
  {
   "cell_type": "code",
   "execution_count": 49,
   "id": "0a024703",
   "metadata": {},
   "outputs": [
    {
     "data": {
      "text/plain": [
       "'This is Keshav\\'s laptop Laptop says \"Hello Sir\"'"
      ]
     },
     "execution_count": 49,
     "metadata": {},
     "output_type": "execute_result"
    }
   ],
   "source": [
    "str1\n"
   ]
  },
  {
   "cell_type": "markdown",
   "id": "efff7447",
   "metadata": {},
   "source": [
    "#### To check an compare content of the string"
   ]
  },
  {
   "cell_type": "code",
   "execution_count": 50,
   "id": "36e9c544",
   "metadata": {},
   "outputs": [
    {
     "data": {
      "text/plain": [
       "False"
      ]
     },
     "execution_count": 50,
     "metadata": {},
     "output_type": "execute_result"
    }
   ],
   "source": [
    "str1 == str2"
   ]
  },
  {
   "cell_type": "code",
   "execution_count": 51,
   "id": "7c721a5e",
   "metadata": {},
   "outputs": [
    {
     "data": {
      "text/plain": [
       "True"
      ]
     },
     "execution_count": 51,
     "metadata": {},
     "output_type": "execute_result"
    }
   ],
   "source": [
    "str1 > str2"
   ]
  },
  {
   "cell_type": "code",
   "execution_count": 52,
   "id": "3662debd",
   "metadata": {},
   "outputs": [
    {
     "data": {
      "text/plain": [
       "False"
      ]
     },
     "execution_count": 52,
     "metadata": {},
     "output_type": "execute_result"
    }
   ],
   "source": [
    "str1 < str2"
   ]
  },
  {
   "cell_type": "markdown",
   "id": "1ea3c130",
   "metadata": {},
   "source": [
    "### Split Function"
   ]
  },
  {
   "cell_type": "markdown",
   "id": "a71e8109",
   "metadata": {},
   "source": [
    "#### Split function return list which contain the parts of the String\n",
    "It's default split around the whitespace.\n",
    "We can also define in which we want to split the string."
   ]
  },
  {
   "cell_type": "code",
   "execution_count": 53,
   "id": "4382cf1e",
   "metadata": {},
   "outputs": [
    {
     "data": {
      "text/plain": [
       "['This', 'is', \"Keshav's\", 'laptop', 'Laptop', 'says', '\"Hello', 'Sir\"']"
      ]
     },
     "execution_count": 53,
     "metadata": {},
     "output_type": "execute_result"
    }
   ],
   "source": [
    "str1.split()"
   ]
  },
  {
   "cell_type": "code",
   "execution_count": 54,
   "id": "9ee50d16",
   "metadata": {},
   "outputs": [
    {
     "data": {
      "text/plain": [
       "'keshavvashisth123'"
      ]
     },
     "execution_count": 54,
     "metadata": {},
     "output_type": "execute_result"
    }
   ],
   "source": [
    "email = \"keshavvashisth123@gmail.com\"\n",
    "emailPartList = email.split('@')\n",
    "username = emailPartList[0]\n",
    "username"
   ]
  },
  {
   "cell_type": "markdown",
   "id": "43df3adb",
   "metadata": {},
   "source": [
    "### Replace function"
   ]
  },
  {
   "cell_type": "markdown",
   "id": "1715cf5e",
   "metadata": {},
   "source": [
    "#### We can use replace(\"want to replace\", \"what you want to replace with\") function."
   ]
  },
  {
   "cell_type": "code",
   "execution_count": 55,
   "id": "67b30067",
   "metadata": {},
   "outputs": [
    {
     "name": "stdout",
     "output_type": "stream",
     "text": [
      "keshavvashisth123@gmail.com\n"
     ]
    },
    {
     "data": {
      "text/plain": [
       "'keshavvashisth123@ask.com'"
      ]
     },
     "execution_count": 55,
     "metadata": {},
     "output_type": "execute_result"
    }
   ],
   "source": [
    "email = \"keshavvashisth123@gmail.com\"\n",
    "print(email)\n",
    "email.replace(\"gmail\", \"ask\")\n",
    "#Replace will not change the original string, it will return a new string."
   ]
  },
  {
   "cell_type": "markdown",
   "id": "6fd20786",
   "metadata": {},
   "source": [
    "### Basic Function"
   ]
  },
  {
   "cell_type": "markdown",
   "id": "93b2c924",
   "metadata": {},
   "source": [
    "#### Find function will return the index of the substring present in the string."
   ]
  },
  {
   "cell_type": "code",
   "execution_count": 56,
   "id": "3f717ad2",
   "metadata": {},
   "outputs": [
    {
     "data": {
      "text/plain": [
       "18"
      ]
     },
     "execution_count": 56,
     "metadata": {},
     "output_type": "execute_result"
    }
   ],
   "source": [
    "email.find('gmail')"
   ]
  },
  {
   "cell_type": "code",
   "execution_count": 57,
   "id": "8fdddf37",
   "metadata": {},
   "outputs": [
    {
     "data": {
      "text/plain": [
       "'keshavvashisth123@gmail.com'"
      ]
     },
     "execution_count": 57,
     "metadata": {},
     "output_type": "execute_result"
    }
   ],
   "source": [
    "email.lower()"
   ]
  },
  {
   "cell_type": "code",
   "execution_count": 58,
   "id": "87ce2797",
   "metadata": {},
   "outputs": [
    {
     "data": {
      "text/plain": [
       "'KESHAVVASHISTH123@GMAIL.COM'"
      ]
     },
     "execution_count": 58,
     "metadata": {},
     "output_type": "execute_result"
    }
   ],
   "source": [
    "email.upper()"
   ]
  },
  {
   "cell_type": "code",
   "execution_count": 59,
   "id": "1268a8e3",
   "metadata": {},
   "outputs": [
    {
     "data": {
      "text/plain": [
       "True"
      ]
     },
     "execution_count": 59,
     "metadata": {},
     "output_type": "execute_result"
    }
   ],
   "source": [
    "email.islower()"
   ]
  },
  {
   "cell_type": "code",
   "execution_count": 60,
   "id": "c89e8a63",
   "metadata": {},
   "outputs": [
    {
     "data": {
      "text/plain": [
       "False"
      ]
     },
     "execution_count": 60,
     "metadata": {},
     "output_type": "execute_result"
    }
   ],
   "source": [
    "email.isupper()"
   ]
  },
  {
   "cell_type": "code",
   "execution_count": 61,
   "id": "4cc599cc",
   "metadata": {},
   "outputs": [
    {
     "data": {
      "text/plain": [
       "False"
      ]
     },
     "execution_count": 61,
     "metadata": {},
     "output_type": "execute_result"
    }
   ],
   "source": [
    "email.startswith(\"Ä\")"
   ]
  },
  {
   "cell_type": "code",
   "execution_count": 62,
   "id": "94f3d660",
   "metadata": {},
   "outputs": [
    {
     "name": "stdout",
     "output_type": "stream",
     "text": [
      "False\n",
      "True\n"
     ]
    }
   ],
   "source": [
    "# As the name of the method isalpha() in python suggests, we use this method to check if all the characters in a string are alphabets or not.\n",
    "print(email.isalpha())\n",
    "\n",
    "string = \"abcd\"\n",
    "print(string.isalpha())\n",
    "#It will all return false if the string contains only alphabet with whitespaces, because whitespace are not alphabet!"
   ]
  },
  {
   "cell_type": "markdown",
   "id": "3b44b139",
   "metadata": {},
   "source": [
    "### Problem Question"
   ]
  },
  {
   "cell_type": "code",
   "execution_count": 63,
   "id": "492781e1",
   "metadata": {},
   "outputs": [
    {
     "name": "stdout",
     "output_type": "stream",
     "text": [
      "abcd\n"
     ]
    }
   ],
   "source": [
    "s = \"abcd\"\n",
    "s.upper()\n",
    "print(s)  \n",
    "#s.upper() returns a new object and doesn’t make changes in original string object."
   ]
  },
  {
   "cell_type": "code",
   "execution_count": 64,
   "id": "c403eab1",
   "metadata": {},
   "outputs": [
    {
     "ename": "TypeError",
     "evalue": "can only concatenate str (not \"int\") to str",
     "output_type": "error",
     "traceback": [
      "\u001b[1;31m---------------------------------------------------------------------------\u001b[0m",
      "\u001b[1;31mTypeError\u001b[0m                                 Traceback (most recent call last)",
      "\u001b[1;32m~\\AppData\\Local\\Temp/ipykernel_4092/1497010398.py\u001b[0m in \u001b[0;36m<module>\u001b[1;34m\u001b[0m\n\u001b[0;32m      1\u001b[0m \u001b[0ms\u001b[0m \u001b[1;33m=\u001b[0m \u001b[1;34m\"abcd\"\u001b[0m\u001b[1;33m\u001b[0m\u001b[1;33m\u001b[0m\u001b[0m\n\u001b[1;32m----> 2\u001b[1;33m \u001b[0mprint\u001b[0m\u001b[1;33m(\u001b[0m\u001b[0ms\u001b[0m \u001b[1;33m+\u001b[0m \u001b[1;36m12\u001b[0m\u001b[1;33m)\u001b[0m\u001b[1;33m\u001b[0m\u001b[1;33m\u001b[0m\u001b[0m\n\u001b[0m\u001b[0;32m      3\u001b[0m \u001b[1;31m#You can’t add an integer value to a string. The right way to add will be s + str(12) i.e. convert 12 to string first and then add.\u001b[0m\u001b[1;33m\u001b[0m\u001b[1;33m\u001b[0m\u001b[0m\n",
      "\u001b[1;31mTypeError\u001b[0m: can only concatenate str (not \"int\") to str"
     ]
    }
   ],
   "source": [
    "s = \"abcd\"\n",
    "print(s + 12)\n",
    "#You can’t add an integer value to a string. The right way to add will be s + str(12) i.e. convert 12 to string first and then add."
   ]
  },
  {
   "cell_type": "markdown",
   "id": "685b2c47",
   "metadata": {},
   "source": [
    "### Slicing Funtion"
   ]
  },
  {
   "cell_type": "code",
   "execution_count": 65,
   "id": "351e9ae7",
   "metadata": {},
   "outputs": [
    {
     "data": {
      "text/plain": [
       "'is '"
      ]
     },
     "execution_count": 65,
     "metadata": {},
     "output_type": "execute_result"
    }
   ],
   "source": [
    "str1 = \"this is slicing\"\n",
    "str1[2:5]"
   ]
  },
  {
   "cell_type": "code",
   "execution_count": 66,
   "id": "0fa8b6de",
   "metadata": {},
   "outputs": [
    {
     "data": {
      "text/plain": [
       "'is sl'"
      ]
     },
     "execution_count": 66,
     "metadata": {},
     "output_type": "execute_result"
    }
   ],
   "source": [
    "str1[5:10]"
   ]
  },
  {
   "cell_type": "code",
   "execution_count": 67,
   "id": "4a8685e1",
   "metadata": {},
   "outputs": [
    {
     "data": {
      "text/plain": [
       "'is is slicing'"
      ]
     },
     "execution_count": 67,
     "metadata": {},
     "output_type": "execute_result"
    }
   ],
   "source": [
    "#Return the forward values.\n",
    "str1[2:]"
   ]
  },
  {
   "cell_type": "code",
   "execution_count": 68,
   "id": "a121391f",
   "metadata": {},
   "outputs": [
    {
     "data": {
      "text/plain": [
       "'this'"
      ]
     },
     "execution_count": 68,
     "metadata": {},
     "output_type": "execute_result"
    }
   ],
   "source": [
    "#Retrun the values before the index\n",
    "str1[:4]"
   ]
  },
  {
   "cell_type": "code",
   "execution_count": 69,
   "id": "4b7209ce",
   "metadata": {},
   "outputs": [
    {
     "data": {
      "text/plain": [
       "'this is slicing'"
      ]
     },
     "execution_count": 69,
     "metadata": {},
     "output_type": "execute_result"
    }
   ],
   "source": [
    "#Return whole string\n",
    "str1[:]"
   ]
  },
  {
   "cell_type": "code",
   "execution_count": 70,
   "id": "9b59da40",
   "metadata": {},
   "outputs": [
    {
     "data": {
      "text/plain": [
       "'ti ss'"
      ]
     },
     "execution_count": 70,
     "metadata": {},
     "output_type": "execute_result"
    }
   ],
   "source": [
    "#Here we can define in last section to skip the substring from starting index to end index in between.\n",
    "#Skip means jump the index value by given number.\n",
    "str1[0:10:2]"
   ]
  },
  {
   "cell_type": "code",
   "execution_count": 71,
   "id": "e6cf1e0c",
   "metadata": {},
   "outputs": [
    {
     "data": {
      "text/plain": [
       "'ils si s'"
      ]
     },
     "execution_count": 71,
     "metadata": {},
     "output_type": "execute_result"
    }
   ],
   "source": [
    "str1[10:2:-1]\n",
    "#By using -1 we skip backwards."
   ]
  },
  {
   "cell_type": "code",
   "execution_count": 72,
   "id": "3434bd8d",
   "metadata": {},
   "outputs": [
    {
     "data": {
      "text/plain": [
       "'ils si sih'"
      ]
     },
     "execution_count": 72,
     "metadata": {},
     "output_type": "execute_result"
    }
   ],
   "source": [
    "str1[10:0:-1]"
   ]
  },
  {
   "cell_type": "markdown",
   "id": "f4f131d5",
   "metadata": {},
   "source": [
    "#### Program to replace a specific character first occurence from the input string."
   ]
  },
  {
   "cell_type": "code",
   "execution_count": 79,
   "id": "695d2056",
   "metadata": {},
   "outputs": [
    {
     "name": "stdout",
     "output_type": "stream",
     "text": [
      "Enter the word: Keshav Vashishta\n"
     ]
    },
    {
     "data": {
      "text/plain": [
       "'Keshaa Vashishta'"
      ]
     },
     "execution_count": 79,
     "metadata": {},
     "output_type": "execute_result"
    }
   ],
   "source": [
    "str1 = input(\"Enter the word: \")\n",
    "a = \"v\"\n",
    "b = \"a\"\n",
    "isPresent = str1.find(a)\n",
    "output = \" \"\n",
    "if isPresent != -1:\n",
    "    output = str1[:isPresent] + b + str1[isPresent+1:]\n",
    "output"
   ]
  },
  {
   "cell_type": "markdown",
   "id": "45e099f3",
   "metadata": {},
   "source": [
    "#### Program to replace a specific character all occurence from the input string."
   ]
  },
  {
   "cell_type": "code",
   "execution_count": 80,
   "id": "fa14f402",
   "metadata": {},
   "outputs": [
    {
     "name": "stdout",
     "output_type": "stream",
     "text": [
      "Enter the word: keshav Vashishta\n"
     ]
    },
    {
     "data": {
      "text/plain": [
       "'keshaa Vashishta'"
      ]
     },
     "execution_count": 80,
     "metadata": {},
     "output_type": "execute_result"
    }
   ],
   "source": [
    "str1 = input(\"Enter the word: \")\n",
    "a = 'v'\n",
    "b = 'a'\n",
    "output = str1\n",
    "for index in range(0, len(output)):\n",
    "    if output[index] == a:\n",
    "        output = output[ :index] + b + output[index+1: ]\n",
    "output"
   ]
  },
  {
   "cell_type": "markdown",
   "id": "55a410d7",
   "metadata": {},
   "source": [
    "#### -1 corresponds to the last index."
   ]
  },
  {
   "cell_type": "code",
   "execution_count": 75,
   "id": "443497e7",
   "metadata": {},
   "outputs": [
    {
     "name": "stdout",
     "output_type": "stream",
     "text": [
      "o\n"
     ]
    }
   ],
   "source": [
    "str1 = 'hello'\n",
    "print(str1[-1:])"
   ]
  },
  {
   "cell_type": "code",
   "execution_count": 76,
   "id": "eda51cfa",
   "metadata": {},
   "outputs": [
    {
     "data": {
      "text/plain": [
       "'gh'"
      ]
     },
     "execution_count": 76,
     "metadata": {},
     "output_type": "execute_result"
    }
   ],
   "source": [
    "s = \"abcdefghi\"\n",
    "s[-3:-1]\n",
    "\n",
    "#Format: str[start_index: last_index]\n",
    "# s[-3:-1]\n",
    "# Here, -3 means it will start from third last element and slice till the last index (-1) but not including it. So it will output “gh”."
   ]
  },
  {
   "cell_type": "markdown",
   "id": "5b42534e",
   "metadata": {},
   "source": [
    "### Check Palindrome"
   ]
  },
  {
   "cell_type": "code",
   "execution_count": 9,
   "id": "638d94f6",
   "metadata": {},
   "outputs": [
    {
     "name": "stdout",
     "output_type": "stream",
     "text": [
      "true\n"
     ]
    }
   ],
   "source": [
    "from sys import stdin\n",
    "\n",
    "\n",
    "def isPalindrome(string) :\n",
    "\t# Your code goes here\n",
    "    revStr = \"\"\n",
    "    if len(string) == 1:\n",
    "        return True\n",
    "    else:\n",
    "        for words in string:\n",
    "            revStr = words + revStr\n",
    "        \n",
    "        if revStr == string:\n",
    "            return True\n",
    "        else:\n",
    "            return False\n",
    "\n",
    "#main\n",
    "string = stdin.readline().strip();\n",
    "ans = isPalindrome(string)\n",
    "\n",
    "if ans :\n",
    "    print('true')\n",
    "else :\n",
    "    print('false')"
   ]
  },
  {
   "cell_type": "markdown",
   "id": "caf1d8a5",
   "metadata": {},
   "source": [
    "### Print all Substrings"
   ]
  },
  {
   "cell_type": "code",
   "execution_count": 10,
   "id": "e8203c0f",
   "metadata": {},
   "outputs": [
    {
     "name": "stdout",
     "output_type": "stream",
     "text": [
      "abc\n",
      "a\n",
      "ab\n",
      "abc\n",
      "\n",
      "b\n",
      "bc\n",
      "\n",
      "\n",
      "c\n"
     ]
    }
   ],
   "source": [
    "str = input()\n",
    "for index in range(0, len(str)):\n",
    "    for index2 in range(0, len(str)):\n",
    "        print(str[index : index2+1])"
   ]
  },
  {
   "cell_type": "markdown",
   "id": "de122b84",
   "metadata": {},
   "source": [
    "### ..........................................................................................................................................................................................."
   ]
  },
  {
   "cell_type": "markdown",
   "id": "5a852e9f",
   "metadata": {},
   "source": [
    "# List"
   ]
  },
  {
   "cell_type": "code",
   "execution_count": 15,
   "id": "b0dfdbb1",
   "metadata": {},
   "outputs": [
    {
     "name": "stdout",
     "output_type": "stream",
     "text": [
      "[1, 2, 3] ['Keshav', 'Vashishta', 20]\n"
     ]
    }
   ],
   "source": [
    "list1 = [1, 2, 3]\n",
    "list2 = list(['Keshav', 'Vashishta', 20])\n",
    "print(list1, list2)"
   ]
  },
  {
   "cell_type": "code",
   "execution_count": 16,
   "id": "29ed50a6",
   "metadata": {},
   "outputs": [
    {
     "data": {
      "text/plain": [
       "[['Vashishtha', 'Tyagi', True], 'Vashishta', 20]"
      ]
     },
     "execution_count": 16,
     "metadata": {},
     "output_type": "execute_result"
    }
   ],
   "source": [
    "list2[0] = [\"Vashishtha\", \"Tyagi\", True]\n",
    "list2"
   ]
  },
  {
   "cell_type": "code",
   "execution_count": 17,
   "id": "7efc5038",
   "metadata": {},
   "outputs": [
    {
     "data": {
      "text/plain": [
       "[0, 0, 0, 0, 0, 0, 0, 0, 0, 0]"
      ]
     },
     "execution_count": 17,
     "metadata": {},
     "output_type": "execute_result"
    }
   ],
   "source": [
    "zeroes = [0 for i in range(10)]\n",
    "zeroes"
   ]
  },
  {
   "cell_type": "code",
   "execution_count": 18,
   "id": "e25f1821",
   "metadata": {},
   "outputs": [
    {
     "data": {
      "text/plain": [
       "[0, 1, 2, 3, 4, 5, 6, 7, 8, 9]"
      ]
     },
     "execution_count": 18,
     "metadata": {},
     "output_type": "execute_result"
    }
   ],
   "source": [
    "numbers = [i for i in range(10)]\n",
    "numbers"
   ]
  },
  {
   "cell_type": "code",
   "execution_count": 25,
   "id": "06f91e5e",
   "metadata": {},
   "outputs": [
    {
     "data": {
      "text/plain": [
       "[0, 1, 4, 9, 16, 25, 36, 49, 64, 81]"
      ]
     },
     "execution_count": 25,
     "metadata": {},
     "output_type": "execute_result"
    }
   ],
   "source": [
    "squares = [(i*i) for i in range(10)]\n",
    "squares"
   ]
  },
  {
   "cell_type": "code",
   "execution_count": 27,
   "id": "2350c5d1",
   "metadata": {},
   "outputs": [
    {
     "name": "stdout",
     "output_type": "stream",
     "text": [
      "['k', 'e', 's', 'h', 'a', 'v']\n",
      "['H', 'E', 'L', 'L', 'O', '_', 'K', 'E', 'S', 'H', 'A', 'V']\n"
     ]
    }
   ],
   "source": [
    "#Printing the letters from the word\n",
    "print([i.lower() for i in \"KESHAV\"])\n",
    "print([i.upper() for i in \"hello_keshav\"])"
   ]
  },
  {
   "cell_type": "code",
   "execution_count": 13,
   "id": "8d4651b8",
   "metadata": {},
   "outputs": [
    {
     "name": "stdout",
     "output_type": "stream",
     "text": [
      "['A', 'B', 'C', 'D', 'E', 'F', 'G', 'H', 'I', 'J', 'K', 'L', 'M', 'N', 'O', 'P', 'Q', 'R', 'S', 'T', 'U', 'V', 'W', 'X', 'Y', 'Z']\n"
     ]
    }
   ],
   "source": [
    "letters = [chr(i) for i in range(65, 91)]\n",
    "print(letters)"
   ]
  },
  {
   "cell_type": "code",
   "execution_count": 14,
   "id": "d3bc8be7",
   "metadata": {},
   "outputs": [
    {
     "data": {
      "text/plain": [
       "[[2, 4, 6, 8, 10, 12, 14, 16, 18, 20],\n",
       " [3, 6, 9, 12, 15, 18, 21, 24, 27, 30],\n",
       " [4, 8, 12, 16, 20, 24, 28, 32, 36, 40],\n",
       " [5, 10, 15, 20, 25, 30, 35, 40, 45, 50],\n",
       " [6, 12, 18, 24, 30, 36, 42, 48, 54, 60],\n",
       " [7, 14, 21, 28, 35, 42, 49, 56, 63, 70],\n",
       " [8, 16, 24, 32, 40, 48, 56, 64, 72, 80],\n",
       " [9, 18, 27, 36, 45, 54, 63, 72, 81, 90],\n",
       " [10, 20, 30, 40, 50, 60, 70, 80, 90, 100]]"
      ]
     },
     "execution_count": 14,
     "metadata": {},
     "output_type": "execute_result"
    }
   ],
   "source": [
    "tables = [\n",
    "            [2*i for i in range(1, 11)],\n",
    "            [3*i for i in range(1, 11)],\n",
    "            [4*i for i in range(1, 11)],\n",
    "            [5*i for i in range(1, 11)],\n",
    "            [6*i for i in range(1, 11)],\n",
    "            [7*i for i in range(1, 11)],\n",
    "            [8*i for i in range(1, 11)],\n",
    "            [9*i for i in range(1, 11)],\n",
    "            [10*i for i in range(1, 11)]\n",
    "         ]\n",
    "tables"
   ]
  },
  {
   "cell_type": "code",
   "execution_count": 21,
   "id": "0a7ee039",
   "metadata": {},
   "outputs": [
    {
     "name": "stdout",
     "output_type": "stream",
     "text": [
      "Enter the nth number to find it's table: 5\n"
     ]
    },
    {
     "data": {
      "text/plain": [
       "[5, 10, 15, 20, 25, 30, 35, 40, 45, 50]"
      ]
     },
     "execution_count": 21,
     "metadata": {},
     "output_type": "execute_result"
    }
   ],
   "source": [
    "nth = int(input(\"Enter the nth number to find it's table: \"))\n",
    "table = [nth * i for i in range(1, 11)]\n",
    "table"
   ]
  },
  {
   "cell_type": "code",
   "execution_count": 20,
   "id": "f3a27a2a",
   "metadata": {},
   "outputs": [
    {
     "name": "stdout",
     "output_type": "stream",
     "text": [
      "['h', 'e', 'l', 'l', 'o', 'K', 'e', 's', 'h', 'a', 'v', 'V', 'a', 's', 'h', 'i', 's', 'h', 't', 'a', '!']\n",
      "Enter your name: Keshav \n",
      "Enter you last name: Vashishtha\n"
     ]
    },
    {
     "data": {
      "text/plain": [
       "['Hello', 'Keshav ', 'Vashishtha', '!']"
      ]
     },
     "execution_count": 20,
     "metadata": {},
     "output_type": "execute_result"
    }
   ],
   "source": [
    "#It will takes one argument only and then seprate all elements in it.\n",
    "letter = list(\"helloKeshavVashishta!\")\n",
    "print(letter)\n",
    "\n",
    "name = input(\"Enter your name: \")\n",
    "lastName = input(\"Enter you last name: \")\n",
    "letter = list([\"Hello\", name, lastName, \"!\"])\n",
    "letter"
   ]
  },
  {
   "cell_type": "markdown",
   "id": "3d401d86",
   "metadata": {},
   "source": [
    "## Inbuilt List Functions"
   ]
  },
  {
   "cell_type": "markdown",
   "id": "151e7ead",
   "metadata": {},
   "source": [
    "### Length Functions"
   ]
  },
  {
   "cell_type": "code",
   "execution_count": 34,
   "id": "593ac283",
   "metadata": {},
   "outputs": [
    {
     "data": {
      "text/plain": [
       "5"
      ]
     },
     "execution_count": 34,
     "metadata": {},
     "output_type": "execute_result"
    }
   ],
   "source": [
    "#Length function will define the length of the list: len(list_name)\n",
    "list1 = [1, 2, 3, 4, 5]\n",
    "len(list1)"
   ]
  },
  {
   "cell_type": "markdown",
   "id": "d0332267",
   "metadata": {},
   "source": [
    "### Concatenation of two list"
   ]
  },
  {
   "cell_type": "code",
   "execution_count": 35,
   "id": "fe6cf6a9",
   "metadata": {},
   "outputs": [
    {
     "data": {
      "text/plain": [
       "[1, 2, 3, 4, 5, 6, 7, 8]"
      ]
     },
     "execution_count": 35,
     "metadata": {},
     "output_type": "execute_result"
    }
   ],
   "source": [
    "list2 = [6, 7, 8]\n",
    "list1 + list2"
   ]
  },
  {
   "cell_type": "code",
   "execution_count": 36,
   "id": "d8ab9b25",
   "metadata": {},
   "outputs": [
    {
     "ename": "TypeError",
     "evalue": "can only concatenate list (not \"int\") to list",
     "output_type": "error",
     "traceback": [
      "\u001b[1;31m---------------------------------------------------------------------------\u001b[0m",
      "\u001b[1;31mTypeError\u001b[0m                                 Traceback (most recent call last)",
      "\u001b[1;32m~\\AppData\\Local\\Temp/ipykernel_10836/4040394924.py\u001b[0m in \u001b[0;36m<module>\u001b[1;34m\u001b[0m\n\u001b[1;32m----> 1\u001b[1;33m \u001b[0mlist1\u001b[0m \u001b[1;33m+\u001b[0m \u001b[1;36m3\u001b[0m\u001b[1;33m\u001b[0m\u001b[1;33m\u001b[0m\u001b[0m\n\u001b[0m",
      "\u001b[1;31mTypeError\u001b[0m: can only concatenate list (not \"int\") to list"
     ]
    }
   ],
   "source": [
    "list1 + 3"
   ]
  },
  {
   "cell_type": "code",
   "execution_count": 37,
   "id": "d67ff9b7",
   "metadata": {},
   "outputs": [
    {
     "data": {
      "text/plain": [
       "([1, 2, 3, 4, 5], [6, 7, 8])"
      ]
     },
     "execution_count": 37,
     "metadata": {},
     "output_type": "execute_result"
    }
   ],
   "source": [
    "#Concatenation make a new list, so the concatenated list are still same.\n",
    "list1, list2"
   ]
  },
  {
   "cell_type": "markdown",
   "id": "0fcb50c2",
   "metadata": {},
   "source": [
    "### * Operation on list."
   ]
  },
  {
   "cell_type": "code",
   "execution_count": 38,
   "id": "3571cf2a",
   "metadata": {},
   "outputs": [
    {
     "data": {
      "text/plain": [
       "[1, 2, 3, 4, 5, 1, 2, 3, 4, 5]"
      ]
     },
     "execution_count": 38,
     "metadata": {},
     "output_type": "execute_result"
    }
   ],
   "source": [
    "#It will increase the number of elements by the number it multiplies.\n",
    "list1 * 2"
   ]
  },
  {
   "cell_type": "code",
   "execution_count": 39,
   "id": "fbf86d97",
   "metadata": {},
   "outputs": [
    {
     "data": {
      "text/plain": [
       "[1, 2, 3, 4, 5]"
      ]
     },
     "execution_count": 39,
     "metadata": {},
     "output_type": "execute_result"
    }
   ],
   "source": [
    "#But the original list remain same.\n",
    "list1"
   ]
  },
  {
   "cell_type": "markdown",
   "id": "4a0fef60",
   "metadata": {},
   "source": [
    "### Add data to List"
   ]
  },
  {
   "cell_type": "markdown",
   "id": "647f8402",
   "metadata": {},
   "source": [
    "#### Append Function."
   ]
  },
  {
   "cell_type": "code",
   "execution_count": 49,
   "id": "46cf2157",
   "metadata": {},
   "outputs": [
    {
     "data": {
      "text/plain": [
       "[1, 2, 3, 4, 5, 6]"
      ]
     },
     "execution_count": 49,
     "metadata": {},
     "output_type": "execute_result"
    }
   ],
   "source": [
    "# list_name.append(element), will append the element to the last of the list\n",
    "list1.append(6)\n",
    "list1"
   ]
  },
  {
   "cell_type": "markdown",
   "id": "14139609",
   "metadata": {},
   "source": [
    "#### Insert Function."
   ]
  },
  {
   "cell_type": "code",
   "execution_count": 52,
   "id": "5c275dee",
   "metadata": {},
   "outputs": [
    {
     "data": {
      "text/plain": [
       "[0, 1, 2, 3, 4, 5, 6]"
      ]
     },
     "execution_count": 52,
     "metadata": {},
     "output_type": "execute_result"
    }
   ],
   "source": [
    "# list_name.insert(index, element), will insert element at a specific index.\n",
    "if list1[0] != 0:\n",
    "    list1.insert(0, 0)\n",
    "list1"
   ]
  },
  {
   "cell_type": "markdown",
   "id": "c46fae91",
   "metadata": {},
   "source": [
    "#### Extend Function."
   ]
  },
  {
   "cell_type": "code",
   "execution_count": 56,
   "id": "0850f105",
   "metadata": {},
   "outputs": [
    {
     "data": {
      "text/plain": [
       "[0, 1, 2, 3, 4, 5, 6, 7, 8]"
      ]
     },
     "execution_count": 56,
     "metadata": {},
     "output_type": "execute_result"
    }
   ],
   "source": [
    "# list_name.extend(data or another list), will add the element to the last of the list.\n",
    "list1 = [0, 1, 2, 3, 4, 5, 6]\n",
    "list2 = [7, 8]\n",
    "list1.extend(list2)\n",
    "\n",
    "#It will return updated list to which extend function is implied, whereas in concatenation it returns a new listt.\n",
    "list1"
   ]
  },
  {
   "cell_type": "markdown",
   "id": "30968160",
   "metadata": {},
   "source": [
    "### Delete Data to list"
   ]
  },
  {
   "cell_type": "markdown",
   "id": "b44a23c2",
   "metadata": {},
   "source": [
    "#### Remove Function"
   ]
  },
  {
   "cell_type": "code",
   "execution_count": 57,
   "id": "fb0b41c2",
   "metadata": {},
   "outputs": [
    {
     "data": {
      "text/plain": [
       "[0, 1, 2, 3, 4, 5, 6, 7]"
      ]
     },
     "execution_count": 57,
     "metadata": {},
     "output_type": "execute_result"
    }
   ],
   "source": [
    "list1 = [0, 1, 2, 3, 4, 5, 6, 7, 8]\n",
    "\n",
    "#list_name.remove(element), it takes element as argument and remove it from list.\n",
    "list1.remove(8)\n",
    "list1"
   ]
  },
  {
   "cell_type": "markdown",
   "id": "2e4e4950",
   "metadata": {},
   "source": [
    "#### POP function"
   ]
  },
  {
   "cell_type": "code",
   "execution_count": 58,
   "id": "dfeeb4e7",
   "metadata": {},
   "outputs": [
    {
     "data": {
      "text/plain": [
       "0"
      ]
     },
     "execution_count": 58,
     "metadata": {},
     "output_type": "execute_result"
    }
   ],
   "source": [
    "#list_name.pop(index), it take index as argument and remove the element present at index and returns the element.\n",
    "list1.pop(0)"
   ]
  },
  {
   "cell_type": "code",
   "execution_count": 84,
   "id": "b6330800",
   "metadata": {},
   "outputs": [
    {
     "data": {
      "text/plain": [
       "[4, 1, 8, 26, 100, 0, 5, 78]"
      ]
     },
     "execution_count": 84,
     "metadata": {},
     "output_type": "execute_result"
    }
   ],
   "source": [
    "list1"
   ]
  },
  {
   "cell_type": "code",
   "execution_count": 86,
   "id": "5dd39cc1",
   "metadata": {},
   "outputs": [
    {
     "data": {
      "text/plain": [
       "'abc'"
      ]
     },
     "execution_count": 86,
     "metadata": {},
     "output_type": "execute_result"
    }
   ],
   "source": [
    "listN = [123, 'xyz', 'zara', 'abc']\n",
    "\n",
    "# When we will not give argument to pop function will pop out the last element from list.\n",
    "listN.pop()"
   ]
  },
  {
   "cell_type": "markdown",
   "id": "27044280",
   "metadata": {},
   "source": [
    "#### del function"
   ]
  },
  {
   "cell_type": "code",
   "execution_count": 60,
   "id": "29d4b5e3",
   "metadata": {},
   "outputs": [
    {
     "data": {
      "text/plain": [
       "[1, 2, 3, 4, 5, 6]"
      ]
     },
     "execution_count": 60,
     "metadata": {},
     "output_type": "execute_result"
    }
   ],
   "source": [
    "# del function is python generic keyword which delete the element present at index.\n",
    "# del list_name[index], but not return the deleted element from list.\n",
    "del list1[6]\n",
    "list1"
   ]
  },
  {
   "cell_type": "markdown",
   "id": "a1df2fe4",
   "metadata": {},
   "source": [
    "### SOrt Function"
   ]
  },
  {
   "cell_type": "code",
   "execution_count": 62,
   "id": "33e0f49f",
   "metadata": {},
   "outputs": [
    {
     "data": {
      "text/plain": [
       "[0, 1, 4, 5, 8, 26, 78, 100]"
      ]
     },
     "execution_count": 62,
     "metadata": {},
     "output_type": "execute_result"
    }
   ],
   "source": [
    "list1 = [4, 1, 8, 26, 100, 0, 5, 78]\n",
    "list1.sort()\n",
    "list1"
   ]
  },
  {
   "cell_type": "code",
   "execution_count": 63,
   "id": "3bcf1a48",
   "metadata": {},
   "outputs": [
    {
     "ename": "TypeError",
     "evalue": "'<' not supported between instances of 'str' and 'int'",
     "output_type": "error",
     "traceback": [
      "\u001b[1;31m---------------------------------------------------------------------------\u001b[0m",
      "\u001b[1;31mTypeError\u001b[0m                                 Traceback (most recent call last)",
      "\u001b[1;32m~\\AppData\\Local\\Temp/ipykernel_10836/2241638825.py\u001b[0m in \u001b[0;36m<module>\u001b[1;34m\u001b[0m\n\u001b[0;32m      1\u001b[0m \u001b[1;31m# But this only sort the heterogenous lists.\u001b[0m\u001b[1;33m\u001b[0m\u001b[1;33m\u001b[0m\u001b[0m\n\u001b[0;32m      2\u001b[0m \u001b[0mlist2\u001b[0m \u001b[1;33m=\u001b[0m \u001b[1;33m[\u001b[0m\u001b[1;36m4\u001b[0m\u001b[1;33m,\u001b[0m \u001b[1;36m1\u001b[0m\u001b[1;33m,\u001b[0m \u001b[1;36m8\u001b[0m\u001b[1;33m,\u001b[0m \u001b[1;36m26\u001b[0m\u001b[1;33m,\u001b[0m \u001b[1;36m100\u001b[0m\u001b[1;33m,\u001b[0m \u001b[1;36m0\u001b[0m\u001b[1;33m,\u001b[0m \u001b[1;36m5\u001b[0m\u001b[1;33m,\u001b[0m \u001b[1;36m78\u001b[0m\u001b[1;33m,\u001b[0m \u001b[1;34m\"hello\"\u001b[0m\u001b[1;33m,\u001b[0m \u001b[1;34m\"Vashishtha\"\u001b[0m\u001b[1;33m]\u001b[0m\u001b[1;33m\u001b[0m\u001b[1;33m\u001b[0m\u001b[0m\n\u001b[1;32m----> 3\u001b[1;33m \u001b[0mlist2\u001b[0m\u001b[1;33m.\u001b[0m\u001b[0msort\u001b[0m\u001b[1;33m(\u001b[0m\u001b[1;33m)\u001b[0m\u001b[1;33m\u001b[0m\u001b[1;33m\u001b[0m\u001b[0m\n\u001b[0m",
      "\u001b[1;31mTypeError\u001b[0m: '<' not supported between instances of 'str' and 'int'"
     ]
    }
   ],
   "source": [
    "# But this only sort the heterogenous lists.\n",
    "list2 = [4, 1, 8, 26, 100, 0, 5, 78, \"hello\", \"Vashishtha\"]\n",
    "list2.sort()"
   ]
  },
  {
   "cell_type": "code",
   "execution_count": 66,
   "id": "406a2ef1",
   "metadata": {},
   "outputs": [
    {
     "data": {
      "text/plain": [
       "['a', 'hello', 'k', 's', 'x']"
      ]
     },
     "execution_count": 66,
     "metadata": {},
     "output_type": "execute_result"
    }
   ],
   "source": [
    "list3 = ['x', 'a', 's', 'k', 'hello']\n",
    "list3.sort()\n",
    "list3"
   ]
  },
  {
   "cell_type": "code",
   "execution_count": 69,
   "id": "9a78a36a",
   "metadata": {},
   "outputs": [
    {
     "data": {
      "text/plain": [
       "[False, 0, True, 1, 2, 9, 68, 100]"
      ]
     },
     "execution_count": 69,
     "metadata": {},
     "output_type": "execute_result"
    }
   ],
   "source": [
    "booleanList = [True, False, 0, 1]\n",
    "booleanList.sort()\n",
    "booleanList"
   ]
  },
  {
   "cell_type": "code",
   "execution_count": 70,
   "id": "40c37bf1",
   "metadata": {},
   "outputs": [
    {
     "data": {
      "text/plain": [
       "[False, 0, True, 1, 2.99, 3, 3.1, 9, 54, 97]"
      ]
     },
     "execution_count": 70,
     "metadata": {},
     "output_type": "execute_result"
    }
   ],
   "source": [
    "list4 = [True, False, 0, 1, 97, 54, 3, 9, 2.99, 3.1]\n",
    "list4.sort()\n",
    "list4"
   ]
  },
  {
   "cell_type": "markdown",
   "id": "16770fc3",
   "metadata": {},
   "source": [
    "### Max Function."
   ]
  },
  {
   "cell_type": "code",
   "execution_count": 71,
   "id": "7f2397af",
   "metadata": {},
   "outputs": [
    {
     "data": {
      "text/plain": [
       "100"
      ]
     },
     "execution_count": 71,
     "metadata": {},
     "output_type": "execute_result"
    }
   ],
   "source": [
    "list1 = [4, 1, 8, 26, 100, 0, 5, 78]\n",
    "\n",
    "#max(list_name) return the max value element present in the list.\n",
    "max(list1)"
   ]
  },
  {
   "cell_type": "code",
   "execution_count": 72,
   "id": "801f1ad5",
   "metadata": {},
   "outputs": [
    {
     "ename": "TypeError",
     "evalue": "'>' not supported between instances of 'str' and 'int'",
     "output_type": "error",
     "traceback": [
      "\u001b[1;31m---------------------------------------------------------------------------\u001b[0m",
      "\u001b[1;31mTypeError\u001b[0m                                 Traceback (most recent call last)",
      "\u001b[1;32m~\\AppData\\Local\\Temp/ipykernel_10836/190919247.py\u001b[0m in \u001b[0;36m<module>\u001b[1;34m\u001b[0m\n\u001b[0;32m      1\u001b[0m \u001b[1;31m#But it only works for heterogenous list, not for homogenous.\u001b[0m\u001b[1;33m\u001b[0m\u001b[1;33m\u001b[0m\u001b[0m\n\u001b[0;32m      2\u001b[0m \u001b[0mlist2\u001b[0m \u001b[1;33m=\u001b[0m \u001b[1;33m[\u001b[0m\u001b[1;36m4\u001b[0m\u001b[1;33m,\u001b[0m \u001b[1;36m1\u001b[0m\u001b[1;33m,\u001b[0m \u001b[1;36m8\u001b[0m\u001b[1;33m,\u001b[0m \u001b[1;36m26\u001b[0m\u001b[1;33m,\u001b[0m \u001b[1;36m100\u001b[0m\u001b[1;33m,\u001b[0m \u001b[1;36m0\u001b[0m\u001b[1;33m,\u001b[0m \u001b[1;36m5\u001b[0m\u001b[1;33m,\u001b[0m \u001b[1;36m78\u001b[0m\u001b[1;33m,\u001b[0m \u001b[1;34m\"hello\"\u001b[0m\u001b[1;33m,\u001b[0m \u001b[1;34m\"Vashishtha\"\u001b[0m\u001b[1;33m]\u001b[0m\u001b[1;33m\u001b[0m\u001b[1;33m\u001b[0m\u001b[0m\n\u001b[1;32m----> 3\u001b[1;33m \u001b[0mmax\u001b[0m\u001b[1;33m(\u001b[0m\u001b[0mlist2\u001b[0m\u001b[1;33m)\u001b[0m\u001b[1;33m\u001b[0m\u001b[1;33m\u001b[0m\u001b[0m\n\u001b[0m",
      "\u001b[1;31mTypeError\u001b[0m: '>' not supported between instances of 'str' and 'int'"
     ]
    }
   ],
   "source": [
    "#But it only works for heterogenous list, not for homogenous.\n",
    "list2 = [4, 1, 8, 26, 100, 0, 5, 78, \"hello\", \"Vashishtha\"]\n",
    "max(list2)"
   ]
  },
  {
   "cell_type": "code",
   "execution_count": 73,
   "id": "f7cf7a24",
   "metadata": {},
   "outputs": [
    {
     "data": {
      "text/plain": [
       "'x'"
      ]
     },
     "execution_count": 73,
     "metadata": {},
     "output_type": "execute_result"
    }
   ],
   "source": [
    "list3 = ['x', 'a', 's', 'k', 'hello']\n",
    "max(list3)"
   ]
  },
  {
   "cell_type": "code",
   "execution_count": 74,
   "id": "302cb954",
   "metadata": {},
   "outputs": [
    {
     "data": {
      "text/plain": [
       "True"
      ]
     },
     "execution_count": 74,
     "metadata": {},
     "output_type": "execute_result"
    }
   ],
   "source": [
    "booleanList = [True, False, 0, 1]\n",
    "max(booleanList)"
   ]
  },
  {
   "cell_type": "markdown",
   "id": "023bdb97",
   "metadata": {},
   "source": [
    "### Index Function"
   ]
  },
  {
   "cell_type": "code",
   "execution_count": 80,
   "id": "ca0a019d",
   "metadata": {},
   "outputs": [
    {
     "data": {
      "text/plain": [
       "3"
      ]
     },
     "execution_count": 80,
     "metadata": {},
     "output_type": "execute_result"
    }
   ],
   "source": [
    "#list_name.index(element), return the index of the element present in the list.\n",
    "list1 = [4, 1, 8, 26, 100, 0, 5, 78]\n",
    "list1.index(26)"
   ]
  },
  {
   "cell_type": "code",
   "execution_count": 81,
   "id": "03c679e0",
   "metadata": {},
   "outputs": [
    {
     "ename": "ValueError",
     "evalue": "2000 is not in list",
     "output_type": "error",
     "traceback": [
      "\u001b[1;31m---------------------------------------------------------------------------\u001b[0m",
      "\u001b[1;31mValueError\u001b[0m                                Traceback (most recent call last)",
      "\u001b[1;32m~\\AppData\\Local\\Temp/ipykernel_10836/183655730.py\u001b[0m in \u001b[0;36m<module>\u001b[1;34m\u001b[0m\n\u001b[1;32m----> 1\u001b[1;33m \u001b[0mlist1\u001b[0m\u001b[1;33m.\u001b[0m\u001b[0mindex\u001b[0m\u001b[1;33m(\u001b[0m\u001b[1;36m2000\u001b[0m\u001b[1;33m)\u001b[0m\u001b[1;33m\u001b[0m\u001b[1;33m\u001b[0m\u001b[0m\n\u001b[0m",
      "\u001b[1;31mValueError\u001b[0m: 2000 is not in list"
     ]
    }
   ],
   "source": [
    "list1.index(2000)"
   ]
  },
  {
   "cell_type": "markdown",
   "id": "f14e484a",
   "metadata": {},
   "source": [
    "### Reverse A list."
   ]
  },
  {
   "cell_type": "code",
   "execution_count": 26,
   "id": "aa5f0c56",
   "metadata": {},
   "outputs": [
    {
     "data": {
      "text/plain": [
       "[78, 5, 0, 100, 26, 8, 1, 4]"
      ]
     },
     "execution_count": 26,
     "metadata": {},
     "output_type": "execute_result"
    }
   ],
   "source": [
    "list1 = [4, 1, 8, 26, 100, 0, 5, 78]\n",
    "list1.reverse()\n",
    "list1"
   ]
  },
  {
   "cell_type": "markdown",
   "id": "681ff332",
   "metadata": {},
   "source": [
    "### Element in List"
   ]
  },
  {
   "cell_type": "code",
   "execution_count": 87,
   "id": "11b6877a",
   "metadata": {},
   "outputs": [
    {
     "data": {
      "text/plain": [
       "True"
      ]
     },
     "execution_count": 87,
     "metadata": {},
     "output_type": "execute_result"
    }
   ],
   "source": [
    "list1 = [4, 1, 8, 26, 100, 0, 5, 78]\n",
    "26 in list1"
   ]
  },
  {
   "cell_type": "code",
   "execution_count": 88,
   "id": "681341b6",
   "metadata": {},
   "outputs": [
    {
     "data": {
      "text/plain": [
       "False"
      ]
     },
     "execution_count": 88,
     "metadata": {},
     "output_type": "execute_result"
    }
   ],
   "source": [
    "101 in list1"
   ]
  },
  {
   "cell_type": "markdown",
   "id": "a893712f",
   "metadata": {},
   "source": [
    "### Taking Input in a list"
   ]
  },
  {
   "cell_type": "markdown",
   "id": "f4dcc9d9",
   "metadata": {},
   "source": [
    "#### First way:"
   ]
  },
  {
   "cell_type": "code",
   "execution_count": 3,
   "id": "88eaf171",
   "metadata": {},
   "outputs": [
    {
     "name": "stdout",
     "output_type": "stream",
     "text": [
      "Enter the size of list: 5\n",
      "Enter the element for the list: 1\n",
      "Enter the element for the list: 2\n",
      "Enter the element for the list: 3\n",
      "Enter the element for the list: 4\n",
      "Enter the element for the list: 5\n"
     ]
    },
    {
     "data": {
      "text/plain": [
       "[1, 2, 3, 4, 5]"
      ]
     },
     "execution_count": 3,
     "metadata": {},
     "output_type": "execute_result"
    }
   ],
   "source": [
    "# 5 -> List Size\n",
    "# 1\n",
    "# 2\n",
    "# 3\n",
    "# 4\n",
    "# 5\n",
    "#Then lines after 5 contains elements input.\n",
    "\n",
    "size = int(input(\"Enter the size of list: \"))\n",
    "list1 = []\n",
    "for i in range (size):\n",
    "    nextEle = int(input(\"Enter the element for the list: \"))\n",
    "    list1.append(nextEle)\n",
    "list1"
   ]
  },
  {
   "cell_type": "markdown",
   "id": "78cda74b",
   "metadata": {},
   "source": [
    "#### Second Way:"
   ]
  },
  {
   "cell_type": "code",
   "execution_count": 10,
   "id": "be6f4e6a",
   "metadata": {},
   "outputs": [
    {
     "name": "stdout",
     "output_type": "stream",
     "text": [
      "Enter the elements: 1 2 3 4 5\n",
      "['1', '2', '3', '4', '5']\n"
     ]
    },
    {
     "data": {
      "text/plain": [
       "[1, 2, 3, 4, 5]"
      ]
     },
     "execution_count": 10,
     "metadata": {},
     "output_type": "execute_result"
    }
   ],
   "source": [
    "# 1 2 3 4 5 -> Contains element in single line.\n",
    "elements = input(\"Enter the elements: \")\n",
    "list1 = elements.split()\n",
    "print(list1)\n",
    "newList=[]\n",
    "\n",
    "#Converting the string list in to integer list.\n",
    "for ele in list1:\n",
    "    newList.append(int(ele))\n",
    "newList"
   ]
  },
  {
   "cell_type": "code",
   "execution_count": 19,
   "id": "f06c36e8",
   "metadata": {},
   "outputs": [
    {
     "name": "stdout",
     "output_type": "stream",
     "text": [
      "Types of the following list:\n",
      " <class 'list'>\n",
      "<class 'list'> \n",
      "\n",
      "Types of elements present in list:\n",
      " <class 'str'>\n",
      "<class 'int'>\n"
     ]
    }
   ],
   "source": [
    "print(\"Types of the following list:\\n\",type(list1))\n",
    "print(type(newList),'\\n')\n",
    "\n",
    "print(\"Types of elements present in list:\\n\",type(list1[0]))\n",
    "print(type(newList[0]))"
   ]
  },
  {
   "cell_type": "code",
   "execution_count": 23,
   "id": "9a02fddc",
   "metadata": {},
   "outputs": [
    {
     "name": "stdout",
     "output_type": "stream",
     "text": [
      "Enter the elements1 2 3 4 5\n",
      "['1', '2', '3', '4', '5']\n"
     ]
    },
    {
     "data": {
      "text/plain": [
       "[1, 2, 3, 4, 5]"
      ]
     },
     "execution_count": 23,
     "metadata": {},
     "output_type": "execute_result"
    }
   ],
   "source": [
    "#The another and shorter way to do it.\n",
    "list1 = input(\"Enter the elements\").split()\n",
    "print(list1)\n",
    "newList = [int(ele) for ele in list1]\n",
    "newList"
   ]
  },
  {
   "cell_type": "code",
   "execution_count": 31,
   "id": "75677f5d",
   "metadata": {},
   "outputs": [
    {
     "name": "stdout",
     "output_type": "stream",
     "text": [
      "Enter the elements: 1 2 3 4 5\n"
     ]
    },
    {
     "data": {
      "text/plain": [
       "[1, 2, 3, 4, 5]"
      ]
     },
     "execution_count": 31,
     "metadata": {},
     "output_type": "execute_result"
    }
   ],
   "source": [
    "#The another shorter way is:\n",
    "listt = [int(elements) for elements in input(\"Enter the elements: \").split()]\n",
    "listt"
   ]
  },
  {
   "cell_type": "markdown",
   "id": "56b61efb",
   "metadata": {},
   "source": [
    "#### Third way:"
   ]
  },
  {
   "cell_type": "code",
   "execution_count": 32,
   "id": "dd8d7e11",
   "metadata": {},
   "outputs": [
    {
     "name": "stdout",
     "output_type": "stream",
     "text": [
      "Enter the size of the list: 5\n",
      "Enter the elements: 1 2 3 4 5\n"
     ]
    },
    {
     "data": {
      "text/plain": [
       "[1, 2, 3, 4, 5]"
      ]
     },
     "execution_count": 32,
     "metadata": {},
     "output_type": "execute_result"
    }
   ],
   "source": [
    "#5 -> list size in first line.\n",
    "#1 2 3 4 5 -> list elements, in second line.\n",
    "size = input(\"Enter the size of the list: \")\n",
    "listt = [int(elements) for elements in input(\"Enter the elements: \").split()]\n",
    "listt"
   ]
  },
  {
   "cell_type": "markdown",
   "id": "ad93bdfb",
   "metadata": {},
   "source": [
    "#### Fourth way:"
   ]
  },
  {
   "cell_type": "code",
   "execution_count": 34,
   "id": "3b44752e",
   "metadata": {},
   "outputs": [
    {
     "name": "stdout",
     "output_type": "stream",
     "text": [
      "Enter the elements: 5 1 2 3 4 5\n"
     ]
    },
    {
     "data": {
      "text/plain": [
       "[1, 2, 3, 4, 5]"
      ]
     },
     "execution_count": 34,
     "metadata": {},
     "output_type": "execute_result"
    }
   ],
   "source": [
    "#5 1 2 3 4 5, whereas the first element is the size of the list and after others are the elements.\n",
    "listt = [int(elements) for elements in input(\"Enter the elements: \").split()]\n",
    "listt.pop(0)\n",
    "listt"
   ]
  },
  {
   "cell_type": "markdown",
   "id": "403706ef",
   "metadata": {},
   "source": [
    "### Print Elements present in the List"
   ]
  },
  {
   "cell_type": "code",
   "execution_count": 39,
   "id": "e45be615",
   "metadata": {},
   "outputs": [
    {
     "name": "stdout",
     "output_type": "stream",
     "text": [
      "Enter the elements for the list: 1 2 3 4 5 \"Keshav\" \"Vashishta\" \n",
      "1\n",
      "2\n",
      "3\n",
      "4\n",
      "5\n",
      "\"Keshav\"\n",
      "\"Vashishta\"\n"
     ]
    },
    {
     "data": {
      "text/plain": [
       "['1', '2', '3', '4', '5', '\"Keshav\"', '\"Vashishta\"']"
      ]
     },
     "execution_count": 39,
     "metadata": {},
     "output_type": "execute_result"
    }
   ],
   "source": [
    "listt = [ele for ele in input(\"Enter the elements for the list: \").split()]\n",
    "for element in listt:\n",
    "    print(element)\n",
    "listt"
   ]
  },
  {
   "cell_type": "markdown",
   "id": "9e8330a3",
   "metadata": {},
   "source": [
    "### Problem\n",
    "#### Find sum of even and odd numbers present in list.\n"
   ]
  },
  {
   "cell_type": "code",
   "execution_count": 45,
   "id": "80002f04",
   "metadata": {},
   "outputs": [
    {
     "name": "stdout",
     "output_type": "stream",
     "text": [
      "Enter the elemets for the list: 1 2 3 4 5 6 7 8 9 10\n"
     ]
    },
    {
     "data": {
      "text/plain": [
       "(30, 25)"
      ]
     },
     "execution_count": 45,
     "metadata": {},
     "output_type": "execute_result"
    }
   ],
   "source": [
    "listt = [int(elements) for elements in input(\"Enter the elemets for the list: \").split()]\n",
    "\n",
    "evenSum = 0\n",
    "oddSum = 0\n",
    "for nums in listt:\n",
    "    if nums % 2 == 0:\n",
    "        evenSum +=  nums\n",
    "    else:\n",
    "        oddSum += nums\n",
    "\n",
    "evenSum, oddSum"
   ]
  },
  {
   "cell_type": "markdown",
   "id": "8de20734",
   "metadata": {},
   "source": [
    "#### Swap Alternate"
   ]
  },
  {
   "cell_type": "code",
   "execution_count": 1,
   "id": "bd01c8d3",
   "metadata": {},
   "outputs": [
    {
     "name": "stdout",
     "output_type": "stream",
     "text": [
      "Enter the elemets for the list: 1 2 3 4 5 6 7 8 9 10 11\n"
     ]
    },
    {
     "data": {
      "text/plain": [
       "[2, 1, 4, 3, 6, 5, 8, 7, 10, 9, 11]"
      ]
     },
     "execution_count": 1,
     "metadata": {},
     "output_type": "execute_result"
    }
   ],
   "source": [
    "listt = [int(elements) for elements in input(\"Enter the elemets for the list: \").split()]\n",
    "\n",
    "for index in range(0, len(listt)-1, 2):\n",
    "    temp = listt[index]\n",
    "    listt[index] = listt[index+1]\n",
    "    listt[index+1] = temp\n",
    "    \n",
    "listt"
   ]
  },
  {
   "cell_type": "markdown",
   "id": "e6490303",
   "metadata": {},
   "source": [
    "#### Equilibirium Index"
   ]
  },
  {
   "cell_type": "code",
   "execution_count": 15,
   "id": "24d50185",
   "metadata": {},
   "outputs": [
    {
     "name": "stdout",
     "output_type": "stream",
     "text": [
      "Enter the elements for the list: 1 -1 4\n",
      "[1, -1, 4]\n",
      "-1\n"
     ]
    }
   ],
   "source": [
    "listt = [int(elements) for elements in input(\"Enter the elements for the list: \").split()]\n",
    "print(listt)\n",
    "isEquillibirium = False\n",
    "index = 0\n",
    "for equIndex in range(1, len(listt)-1, 1):\n",
    "    \n",
    "    leftSum = 0\n",
    "    rightSum = 0\n",
    "    pointer1 = 0\n",
    "    pointer2 = len(listt)-1\n",
    "    \n",
    "    while pointer1 < equIndex:\n",
    "        leftSum += listt[pointer1]\n",
    "        pointer1 += 1\n",
    "        \n",
    "    while pointer2 > equIndex:\n",
    "        rightSum += listt[pointer2]\n",
    "        pointer2 -= 1\n",
    "        \n",
    "    if rightSum == leftSum:\n",
    "        isEquillibirium = True\n",
    "        index = equIndex\n",
    "        break\n",
    "\n",
    "if isEquillibirium: print(index)\n",
    "else: print(-1)"
   ]
  },
  {
   "cell_type": "markdown",
   "id": "101b07d5",
   "metadata": {},
   "source": [
    "### List Slicing"
   ]
  },
  {
   "cell_type": "code",
   "execution_count": 16,
   "id": "7a1dae3d",
   "metadata": {},
   "outputs": [
    {
     "data": {
      "text/plain": [
       "[1, 2, 3, 4, 5, 'abc', 26, 0]"
      ]
     },
     "execution_count": 16,
     "metadata": {},
     "output_type": "execute_result"
    }
   ],
   "source": [
    "listt = [1, 2, 3, 4, 5, \"abc\", 26, 0]\n",
    "listt"
   ]
  },
  {
   "cell_type": "code",
   "execution_count": 17,
   "id": "049217c9",
   "metadata": {},
   "outputs": [
    {
     "data": {
      "text/plain": [
       "[1, 2, 3]"
      ]
     },
     "execution_count": 17,
     "metadata": {},
     "output_type": "execute_result"
    }
   ],
   "source": [
    "listt[0:3]"
   ]
  },
  {
   "cell_type": "code",
   "execution_count": 18,
   "id": "69e4a472",
   "metadata": {},
   "outputs": [
    {
     "data": {
      "text/plain": [
       "[5, 'abc']"
      ]
     },
     "execution_count": 18,
     "metadata": {},
     "output_type": "execute_result"
    }
   ],
   "source": [
    "listt[4:6]"
   ]
  },
  {
   "cell_type": "code",
   "execution_count": 19,
   "id": "6c841205",
   "metadata": {},
   "outputs": [
    {
     "data": {
      "text/plain": [
       "[1, 2, 3, 4]"
      ]
     },
     "execution_count": 19,
     "metadata": {},
     "output_type": "execute_result"
    }
   ],
   "source": [
    "listt[:4]"
   ]
  },
  {
   "cell_type": "code",
   "execution_count": 21,
   "id": "2d2cff0a",
   "metadata": {},
   "outputs": [
    {
     "data": {
      "text/plain": [
       "[0, 26, 'abc', 5]"
      ]
     },
     "execution_count": 21,
     "metadata": {},
     "output_type": "execute_result"
    }
   ],
   "source": [
    "listt[10 : 3 : -1]"
   ]
  },
  {
   "cell_type": "code",
   "execution_count": 22,
   "id": "68cc9e9f",
   "metadata": {},
   "outputs": [
    {
     "data": {
      "text/plain": [
       "[0, 26, 'abc', 5]"
      ]
     },
     "execution_count": 22,
     "metadata": {},
     "output_type": "execute_result"
    }
   ],
   "source": [
    "listt[:3:-1]"
   ]
  },
  {
   "cell_type": "code",
   "execution_count": 23,
   "id": "65d3a6f7",
   "metadata": {},
   "outputs": [
    {
     "data": {
      "text/plain": [
       "[0, 26, 'abc', 5, 4, 3, 2, 1]"
      ]
     },
     "execution_count": 23,
     "metadata": {},
     "output_type": "execute_result"
    }
   ],
   "source": [
    "listt[: : -1]"
   ]
  },
  {
   "cell_type": "code",
   "execution_count": 25,
   "id": "a5dc3982",
   "metadata": {},
   "outputs": [
    {
     "data": {
      "text/plain": [
       "[0, 'abc', 4, 2]"
      ]
     },
     "execution_count": 25,
     "metadata": {},
     "output_type": "execute_result"
    }
   ],
   "source": [
    "listt[: : -2]"
   ]
  },
  {
   "cell_type": "markdown",
   "id": "dfcebd23",
   "metadata": {},
   "source": [
    "### Multidimensional List"
   ]
  },
  {
   "cell_type": "code",
   "execution_count": 28,
   "id": "73bb7d86",
   "metadata": {},
   "outputs": [],
   "source": [
    "#There is not a such thing like multidimensional list/array like java.\n",
    "#What we can do is insert list in list as much we want."
   ]
  },
  {
   "cell_type": "code",
   "execution_count": 27,
   "id": "c7005668",
   "metadata": {},
   "outputs": [
    {
     "data": {
      "text/plain": [
       "[['Keshav Vashishta', 20, 9958983325],\n",
       " ['Ajay Tyagi', 49, 9650194335],\n",
       " ['Shweta Tyagi', 47, 7982288157]]"
      ]
     },
     "execution_count": 27,
     "metadata": {},
     "output_type": "execute_result"
    }
   ],
   "source": [
    "listt = [[\"Keshav Vashishta\", 20, 9958983325], [\"Ajay Tyagi\", 49, 9650194335], [\"Shweta Tyagi\", 47, 7982288157]]\n",
    "listt"
   ]
  },
  {
   "cell_type": "code",
   "execution_count": 29,
   "id": "1f117d7a",
   "metadata": {},
   "outputs": [
    {
     "data": {
      "text/plain": [
       "[1, 2, 3, ['a', 'b', 'c']]"
      ]
     },
     "execution_count": 29,
     "metadata": {},
     "output_type": "execute_result"
    }
   ],
   "source": [
    "#this is also 2 dimensional list.\n",
    "listt = [1, 2, 3, [\"a\", \"b\", \"c\"]]\n",
    "listt"
   ]
  },
  {
   "cell_type": "code",
   "execution_count": 40,
   "id": "80be5b50",
   "metadata": {},
   "outputs": [
    {
     "name": "stdout",
     "output_type": "stream",
     "text": [
      "The first element from the list is:  [1, 2, 3]\n",
      "The second element from the list is:  ['a', 'a', 's', 'k']\n",
      "The third element from the list is:  [True, False]\n",
      "<class 'list'>\n",
      "<class 'list'>\n",
      "<class 'list'> \n",
      "\n",
      "The first element from the list is:  1\n",
      "The second element from the list is:  a\n",
      "The third element from the list is:  True\n",
      "<class 'int'>\n",
      "<class 'str'>\n",
      "<class 'bool'> \n",
      "\n",
      "The length of the list is:  3\n",
      "The length of the first list in main list is:  3\n",
      "The length of the second list in main list is:  4\n",
      "The length of the thord list in main list is:  2\n"
     ]
    }
   ],
   "source": [
    "listt = [[1, 2, 3], [\"a\", \"a\", \"s\", \"k\"], [True, False]]\n",
    "\n",
    "#Finding the elements of the list\n",
    "print(\"The first element from the list is: \", listt[0])\n",
    "print(\"The second element from the list is: \", listt[1])\n",
    "print(\"The third element from the list is: \", listt[2])\n",
    "\n",
    "#Finding the types of inner list conatin in it.\n",
    "print(type(listt[0]))\n",
    "print(type(listt[1]))\n",
    "print(type(listt[2]), \"\\n\")\n",
    "\n",
    "#Finding the element of list contains in list.\n",
    "print(\"The first element from the list is: \", listt[0][0])\n",
    "print(\"The second element from the list is: \", listt[1][0])\n",
    "print(\"The third element from the list is: \", listt[2][0])\n",
    "\n",
    "#Finding the types of elements contain in list within the main list.\n",
    "print(type(listt[0][0]))\n",
    "print(type(listt[1][0]))\n",
    "print(type(listt[2][0]), \"\\n\")\n",
    "\n",
    "#Finding the length of the list.\n",
    "print(\"The length of the list is: \", len(listt))\n",
    "\n",
    "#Finding the length of the innner list.\n",
    "print(\"The length of the first list in main list is: \", len(listt[0]))\n",
    "print(\"The length of the second list in main list is: \", len(listt[1]))\n",
    "print(\"The length of the thord list in main list is: \", len(listt[2]))\n"
   ]
  },
  {
   "cell_type": "code",
   "execution_count": 48,
   "id": "32e14166",
   "metadata": {},
   "outputs": [
    {
     "data": {
      "text/plain": [
       "[[['Keshav', 'Vashishta'],\n",
       "  [20],\n",
       "  ['Shweta Tyagi'],\n",
       "  ['Ajay Tyagi'],\n",
       "  [9958983325]],\n",
       " [['Badi Maa', 'Paa', 'Maa', 'Didu'], ['Tarun', 'Ujjwal']],\n",
       " [[\"I'm Iron Man: \"], [True]]]"
      ]
     },
     "execution_count": 48,
     "metadata": {},
     "output_type": "execute_result"
    }
   ],
   "source": [
    "#This is multidimensional list.\n",
    "listt3d = [\n",
    "            [[\"Keshav\", \"Vashishta\"], [20], [\"Shweta Tyagi\"], [\"Ajay Tyagi\"], [9958983325]],\n",
    "            [[\"Badi Maa\", \"Paa\", \"Maa\", \"Didu\"],[\"Tarun\", \"Ujjwal\"]],\n",
    "            [[\"I'm Iron Man: \"], [True]]\n",
    "          ]\n",
    "listt3d"
   ]
  },
  {
   "cell_type": "code",
   "execution_count": 47,
   "id": "59d3208e",
   "metadata": {},
   "outputs": [
    {
     "data": {
      "text/plain": [
       "[3, 5, 2, 4]"
      ]
     },
     "execution_count": 47,
     "metadata": {},
     "output_type": "execute_result"
    }
   ],
   "source": [
    "lenList = [len(listt3d), len(listt3d[0]), len(listt3d[2]), len(listt3d[1][0])]\n",
    "lenList"
   ]
  },
  {
   "cell_type": "markdown",
   "id": "155c034f",
   "metadata": {},
   "source": [
    "#### Take input of multidimensional list:"
   ]
  },
  {
   "cell_type": "code",
   "execution_count": 49,
   "id": "75b91614",
   "metadata": {},
   "outputs": [
    {
     "name": "stdout",
     "output_type": "stream",
     "text": [
      "Enter the size of m and n: 3 4\n",
      "Enter the {row+1} row list elements: 1 2 3 4\n",
      "Enter the {row+1} row list elements: 5 6 7 8\n",
      "Enter the {row+1} row list elements: 9 10 11 12\n"
     ]
    },
    {
     "data": {
      "text/plain": [
       "[[1, 2, 3, 4], [5, 6, 7, 8], [9, 10, 11, 12]]"
      ]
     },
     "execution_count": 49,
     "metadata": {},
     "output_type": "execute_result"
    }
   ],
   "source": [
    "#First way\n",
    "#5, 3 -> (m*n) whereas the m is size of the main list and n is the elements contain in inner list.\n",
    "#[ ]\n",
    "#[ ]\n",
    "#.\n",
    "#.\n",
    "#[ ]\n",
    "\n",
    "sizes = input(\"Enter the size of m and n: \").split()\n",
    "m = int(sizes[0])\n",
    "n = int(sizes[1])\n",
    "listt = []\n",
    "for row in range(m):\n",
    "    row_list = [int(colEle) for colEle in input(\"Enter the \", row+1, \"row list elements: \").split()]\n",
    "    listt.append(row_list)\n",
    "listt"
   ]
  },
  {
   "cell_type": "code",
   "execution_count": 51,
   "id": "a0e857c5",
   "metadata": {},
   "outputs": [
    {
     "name": "stdout",
     "output_type": "stream",
     "text": [
      "Enter the size of m and n: 3 4\n",
      "1\n",
      "2\n",
      "3\n",
      "4\n",
      "\n",
      "\n",
      "5\n",
      "6\n",
      "7\n",
      "8\n",
      "\n",
      "\n",
      "9\n",
      "10\n",
      "11\n",
      "12\n",
      "\n",
      "\n"
     ]
    },
    {
     "data": {
      "text/plain": [
       "[[1, 2, 3, 4], [5, 6, 7, 8], [9, 10, 11, 12]]"
      ]
     },
     "execution_count": 51,
     "metadata": {},
     "output_type": "execute_result"
    }
   ],
   "source": [
    "#Second way\n",
    "#5, 3 -> (m*n) whereas the m is size of main list and n is the elements contains in inner list.\n",
    "#Following lines conatins elements of the for the inner list.\n",
    "\n",
    "sizes = input(\"Enter the size of m and n: \").split()\n",
    "m = int(sizes[0])\n",
    "n = int(sizes[1])\n",
    "listt = []\n",
    "for row in range(m):\n",
    "    row_list = []\n",
    "    for col in range(n):\n",
    "        row_list.append(int(input()))\n",
    "    listt.append(row_list)\n",
    "    print(\"\\n\")\n",
    "listt"
   ]
  },
  {
   "cell_type": "code",
   "execution_count": 56,
   "id": "7cc44ff9",
   "metadata": {},
   "outputs": [
    {
     "name": "stdout",
     "output_type": "stream",
     "text": [
      "Enter the size of m and n: 3 4\n",
      "Enter all the elements: 1 2 3 4 5 6 7 8 9 10 11 12 13\n",
      "[1, 2, 3, 4, 5, 6, 7, 8, 9, 10, 11, 12, 13]\n"
     ]
    },
    {
     "data": {
      "text/plain": [
       "[[1, 2, 3, 4], [5, 6, 7, 8], [9, 10, 11, 12]]"
      ]
     },
     "execution_count": 56,
     "metadata": {},
     "output_type": "execute_result"
    }
   ],
   "source": [
    "#Third way.\n",
    "#5, 3 -> (m*n)\n",
    "#[all elements of whole list]\n",
    "\n",
    "sizes = input(\"Enter the size of m and n: \").split()\n",
    "m = int(sizes[0])\n",
    "n = int(sizes[1])\n",
    "list_1D = [int(ele) for ele in input(\"Enter all the elements: \").split()]\n",
    "print(list_1D)\n",
    "listt = []\n",
    "\n",
    "for row in range(m):\n",
    "    start_Index = n * row\n",
    "    end_Index = n * (row+1)\n",
    "    next_row = list_1D[start_Index : end_Index]\n",
    "    listt.append(next_row)\n",
    "listt"
   ]
  },
  {
   "cell_type": "markdown",
   "id": "2e47e560",
   "metadata": {},
   "source": [
    "### What is the output?"
   ]
  },
  {
   "cell_type": "code",
   "execution_count": 57,
   "id": "42e27bcc",
   "metadata": {},
   "outputs": [
    {
     "name": "stdout",
     "output_type": "stream",
     "text": [
      "[1, 5, 9]\n"
     ]
    }
   ],
   "source": [
    "A = [\n",
    "        [1, 2, 3],\n",
    "        [4, 5, 6],\n",
    "        [7, 8, 9]\n",
    "    ]\n",
    "print([A[i][i] for i in range(len(A))]) "
   ]
  },
  {
   "cell_type": "markdown",
   "id": "19fb648b",
   "metadata": {},
   "source": [
    "### Slicing in 2D List."
   ]
  },
  {
   "cell_type": "code",
   "execution_count": 8,
   "id": "7e60dec8",
   "metadata": {},
   "outputs": [
    {
     "name": "stdout",
     "output_type": "stream",
     "text": [
      "Getting the first row list sliced from the 2D List:  [[1, 2, 3]]\n",
      "Getting the first and second row list sliced from the 2D List:  [[1, 2, 3], [4, 5, 6]]\n",
      "Getting the first and third excluding the second row list sliced from the 2D List:  [[1, 2, 3], [7, 8, 9]]\n",
      "Getting the row list from the bottom to up the 2D List:  [[7, 8, 9], [4, 5, 6], [1, 2, 3]]\n"
     ]
    }
   ],
   "source": [
    "A = [\n",
    "        [1, 2, 3],\n",
    "        [4, 5, 6],\n",
    "        [7, 8, 9]\n",
    "    ]\n",
    "print(\"Getting the first row list sliced from the 2D List: \", A[:1])\n",
    "print(\"Getting the first and second row list sliced from the 2D List: \", A[:2])\n",
    "print(\"Getting the first and third excluding the second row list sliced from the 2D List: \", A[ :  : 2])\n",
    "print(\"Getting the row list from the bottom to up the 2D List: \", A[ : : -1])"
   ]
  },
  {
   "cell_type": "markdown",
   "id": "648a9f53",
   "metadata": {},
   "source": [
    "### For loop in 2D List"
   ]
  },
  {
   "cell_type": "code",
   "execution_count": 10,
   "id": "b8547084",
   "metadata": {},
   "outputs": [
    {
     "data": {
      "text/plain": [
       "[[1, 2, 3],\n",
       " [1, 2, 3],\n",
       " [1, 2, 3],\n",
       " [1, 2, 3],\n",
       " [1, 2, 3],\n",
       " [1, 2, 3],\n",
       " [1, 2, 3],\n",
       " [1, 2, 3],\n",
       " [1, 2, 3],\n",
       " [1, 2, 3]]"
      ]
     },
     "execution_count": 10,
     "metadata": {},
     "output_type": "execute_result"
    }
   ],
   "source": [
    "listt = [[1, 2, 3] for lists in range(10)]\n",
    "listt"
   ]
  },
  {
   "cell_type": "code",
   "execution_count": 13,
   "id": "d5ad398d",
   "metadata": {},
   "outputs": [
    {
     "data": {
      "text/plain": [
       "[[1, 2, 3, 4, 5, 6, 7, 8, 9, 10],\n",
       " [1, 2, 3, 4, 5, 6, 7, 8, 9, 10],\n",
       " [1, 2, 3, 4, 5, 6, 7, 8, 9, 10],\n",
       " [1, 2, 3, 4, 5, 6, 7, 8, 9, 10],\n",
       " [1, 2, 3, 4, 5, 6, 7, 8, 9, 10],\n",
       " [1, 2, 3, 4, 5, 6, 7, 8, 9, 10],\n",
       " [1, 2, 3, 4, 5, 6, 7, 8, 9, 10],\n",
       " [1, 2, 3, 4, 5, 6, 7, 8, 9, 10],\n",
       " [1, 2, 3, 4, 5, 6, 7, 8, 9, 10],\n",
       " [1, 2, 3, 4, 5, 6, 7, 8, 9, 10]]"
      ]
     },
     "execution_count": 13,
     "metadata": {},
     "output_type": "execute_result"
    }
   ],
   "source": [
    "listt = [[columns for columns in range(1, 11)] for rows in range(10)]\n",
    "listt"
   ]
  },
  {
   "cell_type": "code",
   "execution_count": 19,
   "id": "b6c5ec44",
   "metadata": {},
   "outputs": [
    {
     "data": {
      "text/plain": [
       "[['@', '@', '@', '@', '@'],\n",
       " ['@', '@', '@', '@', '@'],\n",
       " ['@', '@', '@', '@', '@'],\n",
       " ['@', '@', '@', '@', '@'],\n",
       " ['@', '@', '@', '@', '@']]"
      ]
     },
     "execution_count": 19,
     "metadata": {},
     "output_type": "execute_result"
    }
   ],
   "source": [
    "pattern_List = [[\"@\" for col in range(5)] for row in range(5)]\n",
    "pattern_List"
   ]
  },
  {
   "cell_type": "code",
   "execution_count": 30,
   "id": "5b438f3a",
   "metadata": {},
   "outputs": [
    {
     "data": {
      "text/plain": [
       "[[[['3D'], ['3D'], ['3D'], ['3D'], ['3D']],\n",
       "  [['3D'], ['3D'], ['3D'], ['3D'], ['3D']],\n",
       "  [['3D'], ['3D'], ['3D'], ['3D'], ['3D']],\n",
       "  [['3D'], ['3D'], ['3D'], ['3D'], ['3D']],\n",
       "  [['3D'], ['3D'], ['3D'], ['3D'], ['3D']]],\n",
       " [[['3D'], ['3D'], ['3D'], ['3D'], ['3D']],\n",
       "  [['3D'], ['3D'], ['3D'], ['3D'], ['3D']],\n",
       "  [['3D'], ['3D'], ['3D'], ['3D'], ['3D']],\n",
       "  [['3D'], ['3D'], ['3D'], ['3D'], ['3D']],\n",
       "  [['3D'], ['3D'], ['3D'], ['3D'], ['3D']]],\n",
       " [[['3D'], ['3D'], ['3D'], ['3D'], ['3D']],\n",
       "  [['3D'], ['3D'], ['3D'], ['3D'], ['3D']],\n",
       "  [['3D'], ['3D'], ['3D'], ['3D'], ['3D']],\n",
       "  [['3D'], ['3D'], ['3D'], ['3D'], ['3D']],\n",
       "  [['3D'], ['3D'], ['3D'], ['3D'], ['3D']]],\n",
       " [[['3D'], ['3D'], ['3D'], ['3D'], ['3D']],\n",
       "  [['3D'], ['3D'], ['3D'], ['3D'], ['3D']],\n",
       "  [['3D'], ['3D'], ['3D'], ['3D'], ['3D']],\n",
       "  [['3D'], ['3D'], ['3D'], ['3D'], ['3D']],\n",
       "  [['3D'], ['3D'], ['3D'], ['3D'], ['3D']]],\n",
       " [[['3D'], ['3D'], ['3D'], ['3D'], ['3D']],\n",
       "  [['3D'], ['3D'], ['3D'], ['3D'], ['3D']],\n",
       "  [['3D'], ['3D'], ['3D'], ['3D'], ['3D']],\n",
       "  [['3D'], ['3D'], ['3D'], ['3D'], ['3D']],\n",
       "  [['3D'], ['3D'], ['3D'], ['3D'], ['3D']]]]"
      ]
     },
     "execution_count": 30,
     "metadata": {},
     "output_type": "execute_result"
    }
   ],
   "source": [
    "listt_3d = [[[[\"3D\"] for k in range(5)] for j in range(5)] for i in range(5)]\n",
    "listt_3d"
   ]
  },
  {
   "cell_type": "markdown",
   "id": "f3605dee",
   "metadata": {},
   "source": [
    "### Problem\n",
    "#### Finding Column Sum"
   ]
  },
  {
   "cell_type": "code",
   "execution_count": 3,
   "id": "51bb4ad8",
   "metadata": {
    "scrolled": true
   },
   "outputs": [
    {
     "name": "stdout",
     "output_type": "stream",
     "text": [
      "Enter the size of rows and columns: 5 5\n",
      "Enter the list elements: 1 2 3 4 5\n",
      "Enter the list elements: 6 7 8 9 10\n",
      "Enter the list elements: 11 12 13 14 15\n",
      "Enter the list elements: 16 17 18 19 20\n",
      "Enter the list elements: 21 22 23 24 25 \n",
      "The sum of column  1  is:  55\n",
      "The sum of column  2  is:  60\n",
      "The sum of column  3  is:  65\n",
      "The sum of column  4  is:  70\n",
      "The sum of column  5  is:  75\n"
     ]
    }
   ],
   "source": [
    "#Taking input.\n",
    "# m->rows, n->columns.\n",
    "sizes = input(\"Enter the size of rows and columns: \").split()\n",
    "rows = int(sizes[0])\n",
    "columns = int(sizes[1])\n",
    "listt = []\n",
    "for row in range(rows):\n",
    "    row_list = [int(colEle) for colEle in input(\"Enter the list elements: \").split()]\n",
    "    listt.append(row_list)\n",
    "listt\n",
    "\n",
    "#Finding the sum\n",
    "for col in range(columns):\n",
    "    sum = 0\n",
    "    for row in range(rows):\n",
    "        sum += listt[row][col]\n",
    "    print(\"The sum of column \",(col+1), \" is: \", sum)\n"
   ]
  },
  {
   "cell_type": "code",
   "execution_count": 11,
   "id": "2531dbb6",
   "metadata": {
    "scrolled": false
   },
   "outputs": [
    {
     "name": "stdout",
     "output_type": "stream",
     "text": [
      "1\n",
      "2\n",
      "3\n",
      "4\n",
      "5\n",
      "6\n",
      "7\n",
      "8\n",
      "9\n",
      "10\n",
      "11\n",
      "12\n",
      "13\n",
      "14\n",
      "15\n",
      "16\n",
      "17\n",
      "18\n",
      "19\n",
      "20\n",
      "21\n",
      "22\n",
      "23\n",
      "24\n",
      "25\n",
      "26\n",
      "27\n",
      "28\n",
      "29\n",
      "30\n",
      "31\n",
      "32\n",
      "33\n",
      "34\n",
      "35\n",
      "36\n",
      "37\n",
      "38\n",
      "39\n",
      "40\n",
      "41\n",
      "42\n",
      "43\n",
      "44\n",
      "45\n",
      "46\n",
      "47\n",
      "48\n",
      "49\n",
      "50\n",
      "51\n",
      "52\n",
      "53\n",
      "54\n",
      "55\n",
      "56\n",
      "57\n",
      "58\n",
      "59\n",
      "60\n",
      "61\n",
      "62\n",
      "63\n",
      "64\n",
      "65\n",
      "66\n",
      "67\n",
      "68\n",
      "69\n",
      "70\n",
      "71\n",
      "72\n",
      "73\n",
      "74\n",
      "75\n",
      "76\n",
      "77\n",
      "78\n",
      "79\n",
      "80\n",
      "81\n",
      "82\n",
      "83\n",
      "84\n",
      "85\n",
      "86\n",
      "87\n",
      "88\n",
      "89\n",
      "90\n",
      "91\n",
      "92\n",
      "93\n",
      "94\n",
      "95\n",
      "96\n",
      "97\n",
      "98\n",
      "99\n",
      "100\n",
      "101\n",
      "102\n",
      "103\n",
      "104\n",
      "105\n",
      "106\n",
      "107\n",
      "108\n",
      "109\n",
      "110\n",
      "111\n",
      "112\n",
      "113\n",
      "114\n",
      "115\n",
      "116\n",
      "117\n",
      "118\n",
      "119\n",
      "120\n",
      "121\n",
      "122\n",
      "123\n",
      "124\n",
      "125\n",
      "126\n",
      "127\n",
      "128\n",
      "129\n",
      "130\n",
      "131\n",
      "132\n",
      "133\n",
      "134\n",
      "135\n",
      "136\n",
      "137\n",
      "138\n",
      "139\n",
      "140\n",
      "141\n",
      "142\n",
      "143\n",
      "144\n",
      "145\n",
      "146\n",
      "147\n",
      "148\n",
      "149\n",
      "150\n"
     ]
    }
   ],
   "source": [
    "for nums in range(1, 151):\n",
    "    print(nums)"
   ]
  },
  {
   "cell_type": "code",
   "execution_count": null,
   "id": "383019b6",
   "metadata": {},
   "outputs": [],
   "source": []
  }
 ],
 "metadata": {
  "kernelspec": {
   "display_name": "Python 3 (ipykernel)",
   "language": "python",
   "name": "python3"
  },
  "language_info": {
   "codemirror_mode": {
    "name": "ipython",
    "version": 3
   },
   "file_extension": ".py",
   "mimetype": "text/x-python",
   "name": "python",
   "nbconvert_exporter": "python",
   "pygments_lexer": "ipython3",
   "version": "3.9.7"
  }
 },
 "nbformat": 4,
 "nbformat_minor": 5
}
