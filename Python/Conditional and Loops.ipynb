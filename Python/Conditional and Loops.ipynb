{
 "cells": [
  {
   "cell_type": "markdown",
   "id": "82b036df",
   "metadata": {},
   "source": [
    "# Conditions and Loops\n"
   ]
  },
  {
   "cell_type": "markdown",
   "id": "ca35e332",
   "metadata": {},
   "source": [
    "### Boolean"
   ]
  },
  {
   "cell_type": "code",
   "execution_count": 1,
   "id": "bd073bca",
   "metadata": {},
   "outputs": [
    {
     "name": "stdout",
     "output_type": "stream",
     "text": [
      "<class 'bool'>\n",
      "<class 'bool'>\n"
     ]
    }
   ],
   "source": [
    "#True and False are two reserved keyword in python used in boolean data types.\n",
    "stat1 = True\n",
    "stat2 = False\n",
    "\n",
    "print(type(stat1))\n",
    "print(type(stat2))"
   ]
  },
  {
   "cell_type": "markdown",
   "id": "2b318bb5",
   "metadata": {},
   "source": [
    "### Relational Operators"
   ]
  },
  {
   "cell_type": "code",
   "execution_count": 5,
   "id": "41682ae4",
   "metadata": {},
   "outputs": [
    {
     "name": "stdout",
     "output_type": "stream",
     "text": [
      "Enter number: 45\n",
      "Enter number: 35\n",
      "\n",
      "Is num1 greater than num2?  True\n",
      "Is num1 smaller than num2?  False\n",
      "Is num1 greater than or equal to num2?  True\n",
      "Is num1 smaller than or equal num2?  False\n",
      "Is num1 equal to num2?  False\n",
      "Is num1 not euqal to num2?  True\n"
     ]
    }
   ],
   "source": [
    "num1 = int(input(\"Enter number: \"))\n",
    "num2 = int(input(\"Enter number: \"))\n",
    "\n",
    "#Comparison between num1 and num2\n",
    "print(\"\\nIs num1 greater than num2? \", num1 > num2)\n",
    "print(\"Is num1 smaller than num2? \", num1 < num2)\n",
    "print(\"Is num1 greater than or equal to num2? \", num1 >= num2)\n",
    "print(\"Is num1 smaller than or equal num2? \", num1 <= num2)\n",
    "print(\"Is num1 equal to num2? \", num1 == num2)\n",
    "print(\"Is num1 not euqal to num2? \", num1 != num2)\n"
   ]
  },
  {
   "cell_type": "markdown",
   "id": "dd5b564d",
   "metadata": {},
   "source": [
    "### Logical Operator"
   ]
  },
  {
   "cell_type": "code",
   "execution_count": 15,
   "id": "889dfba5",
   "metadata": {},
   "outputs": [
    {
     "name": "stdout",
     "output_type": "stream",
     "text": [
      "False\n",
      "True\n",
      "True False\n",
      "False True\n"
     ]
    }
   ],
   "source": [
    "comp1 = num1 > 10\n",
    "comp2 = num2 < 20\n",
    "\n",
    "#Comparing if both the statements are True or not!\n",
    "# 'and' return true if both the statements are True.\n",
    "print(comp1 and comp2)\n",
    "\n",
    "#Comparing both the statements and return True, if one them is True.\n",
    "# 'or' keyword return True, if one of the statement is True else return False.\n",
    "print(comp1 or comp2)\n",
    "\n",
    "#Last one logical opertor is \"not\" which negates the result or answer\n",
    "print(comp1, not(comp1))\n",
    "print(comp2, not(comp2))"
   ]
  },
  {
   "cell_type": "markdown",
   "id": "024297ae",
   "metadata": {},
   "source": [
    "## IF ELSE"
   ]
  },
  {
   "cell_type": "code",
   "execution_count": 32,
   "id": "f7f7ddcd",
   "metadata": {},
   "outputs": [
    {
     "name": "stdout",
     "output_type": "stream",
     "text": [
      "I am inside if :) \n"
     ]
    }
   ],
   "source": [
    "stat1 = True\n",
    "if stat1:\n",
    "    print(\"I am inside if :) \")\n",
    "else:\n",
    "    print(\"I am inside else ;) \")"
   ]
  },
  {
   "cell_type": "markdown",
   "id": "9a941c74",
   "metadata": {},
   "source": [
    "#### Check whether the given number is odd or even?"
   ]
  },
  {
   "cell_type": "code",
   "execution_count": 2,
   "id": "9cc166e8",
   "metadata": {},
   "outputs": [
    {
     "name": "stdout",
     "output_type": "stream",
     "text": [
      "Enter the number: 45\n",
      "The number  45  is odd.\n"
     ]
    }
   ],
   "source": [
    "num = int(input(\"Enter the number: \"))\n",
    "remainder = num % 2\n",
    "\n",
    "#Checking whether the number is odd or even based on the condition of remainder\n",
    "if remainder == 0:\n",
    "    print(\"The number\", num, \"is even.\")\n",
    "else:\n",
    "    print(\"The number \", num, \" is odd.\")"
   ]
  },
  {
   "cell_type": "markdown",
   "id": "1c7f8de7",
   "metadata": {},
   "source": [
    "#### Check whether the given both numbers are greater than 10 or not?"
   ]
  },
  {
   "cell_type": "code",
   "execution_count": 4,
   "id": "a664cdee",
   "metadata": {},
   "outputs": [
    {
     "name": "stdout",
     "output_type": "stream",
     "text": [
      "Enter a number: 10\n",
      "Enter a number: 10\n",
      "One of the or both the numbers are smaller than 10.\n"
     ]
    }
   ],
   "source": [
    "num1 = int(input(\"Enter a number: \"))\n",
    "num2 = int(input(\"Enter a number: \"))\n",
    "\n",
    "isGreater_10 = num1 > 10 and num2 > 10\n",
    "\n",
    "if isGreater_10:\n",
    "    print(\"Both the numbers are greater than 10.\")\n",
    "else:\n",
    "    print(\"One of the or both the numbers are smaller than 10.\")"
   ]
  },
  {
   "cell_type": "markdown",
   "id": "23bcefe2",
   "metadata": {},
   "source": [
    "## ELIF (Else If)"
   ]
  },
  {
   "cell_type": "markdown",
   "id": "4dd30fbb",
   "metadata": {},
   "source": [
    "#### Program to print the largest number between three numbers."
   ]
  },
  {
   "cell_type": "code",
   "execution_count": 8,
   "id": "220c7748",
   "metadata": {},
   "outputs": [
    {
     "name": "stdout",
     "output_type": "stream",
     "text": [
      "Enter the number: 45\n",
      "Enter the number: 54\n",
      "Enter the number: 54\n",
      "The number which is largest among three is: 54\n"
     ]
    }
   ],
   "source": [
    "num1 = int(input(\"Enter the number: \"))\n",
    "num2 = int(input(\"Enter the number: \"))\n",
    "num3 = int(input(\"Enter the number: \"))\n",
    "\n",
    "if (num1 >= num2) and (num1 >= num3):\n",
    "    print(\"The number which is largest among three is:\",num1)\n",
    "elif (num2 >= num1) and (num2 >= num3):\n",
    "    print(\"The number which is largest among three is:\",num2)\n",
    "else:\n",
    "    print(\"The number which is largest among three is:\",num3)"
   ]
  },
  {
   "cell_type": "markdown",
   "id": "c0c43abd",
   "metadata": {},
   "source": [
    "#### Given an integer n, find if n is positive, negative or 0."
   ]
  },
  {
   "cell_type": "code",
   "execution_count": 14,
   "id": "3bee108f",
   "metadata": {},
   "outputs": [
    {
     "name": "stdout",
     "output_type": "stream",
     "text": [
      "Enter the integer number: 45\n",
      "The number is positive.\n"
     ]
    }
   ],
   "source": [
    "n = int(input(\"Enter the integer number: \"))\n",
    "\n",
    "#Applying conditions.\n",
    "if n > 0:\n",
    "    print(\"The number is positive.\")\n",
    "elif n < 0:\n",
    "    print(\"The number is negative.\")\n",
    "else:\n",
    "    print(\"The number is Zero.\")"
   ]
  },
  {
   "cell_type": "markdown",
   "id": "cd945965",
   "metadata": {},
   "source": [
    "## Nested IF ELSE"
   ]
  },
  {
   "cell_type": "markdown",
   "id": "c3ea0592",
   "metadata": {},
   "source": [
    "#### Check whether the given number is even or odd, if it will be even than it's zero or not."
   ]
  },
  {
   "cell_type": "code",
   "execution_count": 17,
   "id": "619191cb",
   "metadata": {},
   "outputs": [
    {
     "name": "stdout",
     "output_type": "stream",
     "text": [
      "Enter the number: 26\n",
      "The number is even but not zero.\n"
     ]
    }
   ],
   "source": [
    "num = int(input(\"Enter the number: \"))\n",
    "\n",
    "if num % 2 == 0:\n",
    "    if num == 0:\n",
    "        print(\"The number is even as well it's zero also.\")\n",
    "    else:\n",
    "        print(\"The number is even but not zero.\")\n",
    "else:\n",
    "    print(\"The number is odd. \")"
   ]
  },
  {
   "cell_type": "code",
   "execution_count": 22,
   "id": "994c7344",
   "metadata": {},
   "outputs": [
    {
     "name": "stdout",
     "output_type": "stream",
     "text": [
      "Enter the value of n: 45\n",
      "Enter the value of m: 10\n",
      "3\n"
     ]
    }
   ],
   "source": [
    "#Take two input n and m\n",
    "#If n is even and m is also even than print 1.\n",
    "#If n is even and m is odd than print 2.\n",
    "#If n is odd and m is even than print 3.\n",
    "#If n is odd and m is also odd than print 4.\n",
    "\n",
    "n = int(input(\"Enter the value of n: \"))\n",
    "m = int(input(\"Enter the value of m: \"))\n",
    "\n",
    "if n % 2 == 0:\n",
    "    if m % 2 == 0:\n",
    "        print(1)\n",
    "    else:\n",
    "        print(2)\n",
    "else:\n",
    "    if m % 2 == 0:\n",
    "        print(3)\n",
    "    else:\n",
    "        print(4)"
   ]
  },
  {
   "cell_type": "markdown",
   "id": "a9622d63",
   "metadata": {},
   "source": [
    "#### Conditional Question"
   ]
  },
  {
   "cell_type": "code",
   "execution_count": 23,
   "id": "1f982ef5",
   "metadata": {},
   "outputs": [
    {
     "name": "stdout",
     "output_type": "stream",
     "text": [
      "B\n"
     ]
    }
   ],
   "source": [
    "if True or True:\n",
    "    if False and True or False:\n",
    "        print('A')\n",
    "    elif False and False or True and True:\n",
    "        print('B')\n",
    "    else:\n",
    "        print('C')\n",
    "else:\n",
    "     print('D')"
   ]
  },
  {
   "cell_type": "markdown",
   "id": "fc3b3d91",
   "metadata": {},
   "source": [
    "# .............................................................................................................................."
   ]
  },
  {
   "cell_type": "markdown",
   "id": "599831f4",
   "metadata": {},
   "source": [
    "## WHILE LOOPS"
   ]
  },
  {
   "cell_type": "markdown",
   "id": "1cbe13c1",
   "metadata": {},
   "source": [
    "#### Print all natural number untill nth number."
   ]
  },
  {
   "cell_type": "code",
   "execution_count": 26,
   "id": "9174b847",
   "metadata": {},
   "outputs": [
    {
     "name": "stdout",
     "output_type": "stream",
     "text": [
      "Enter the nth number number untill which you want to print natural numbers: 3\n",
      "1\n",
      "2\n",
      "3\n"
     ]
    }
   ],
   "source": [
    "nth = int(input(\"Enter the nth number number untill which you want to print natural numbers: \"))\n",
    "\n",
    "#Applying loop nth times.\n",
    "nthTimes = 1\n",
    "while nthTimes <= nth:\n",
    "    print(nthTimes)\n",
    "    nthTimes += 1"
   ]
  },
  {
   "cell_type": "markdown",
   "id": "06359ef4",
   "metadata": {},
   "source": [
    "#### Program to find Sum of n numbers."
   ]
  },
  {
   "cell_type": "code",
   "execution_count": 1,
   "id": "ff0856e9",
   "metadata": {},
   "outputs": [
    {
     "name": "stdout",
     "output_type": "stream",
     "text": [
      "Enter the value of n: 45\n",
      "The sum of n numbers is: 1035\n"
     ]
    }
   ],
   "source": [
    "nValue = int(input(\"Enter the value of n: \"))\n",
    "\n",
    "#Running loop n times.\n",
    "nTimes = 1\n",
    "sum = 0\n",
    "while nTimes <= nValue:\n",
    "    sum += nTimes\n",
    "    nTimes += 1\n",
    "\n",
    "#Return or print the sum of n numbers.\n",
    "print(\"The sum of n numbers is:\",sum)"
   ]
  },
  {
   "cell_type": "markdown",
   "id": "ded16386",
   "metadata": {},
   "source": [
    "#### Given a number N, print sum of all even numbers from 1 to N."
   ]
  },
  {
   "cell_type": "code",
   "execution_count": 7,
   "id": "13bbb96c",
   "metadata": {},
   "outputs": [
    {
     "name": "stdout",
     "output_type": "stream",
     "text": [
      "Enter the value of N: 45\n",
      "Sum of all even numbers from 1 to N(45) is: 506\n"
     ]
    }
   ],
   "source": [
    "nValue = int(input(\"Enter the value of N: \"))\n",
    "\n",
    "#Running loop n/2 times:\n",
    "nTimes = 2\n",
    "sum = 0\n",
    "while nTimes <= nValue:\n",
    "    sum += nTimes\n",
    "    nTimes += 2\n",
    "\n",
    "#Returning or printing the sum of even number Untill number N.\n",
    "print(f\"Sum of all even numbers from 1 to N({nValue}) is: {sum}\")"
   ]
  },
  {
   "cell_type": "markdown",
   "id": "a4af0980",
   "metadata": {},
   "source": [
    "#### Check whether the number is prime or not?!"
   ]
  },
  {
   "cell_type": "code",
   "execution_count": 6,
   "id": "55a95cb6",
   "metadata": {},
   "outputs": [
    {
     "name": "stdout",
     "output_type": "stream",
     "text": [
      "Enter the number for you wanna check primality:  6\n",
      "The given number 6 is not prime.\n"
     ]
    }
   ],
   "source": [
    "num = int(input(\"Enter the number for you wanna check primality:  \"))\n",
    "\n",
    "#Applying conditions and loops for finding the primality of the number.\n",
    "isPrime = True\n",
    "numbers = 2\n",
    "while numbers < num:\n",
    "    if num % numbers == 0:\n",
    "        isPrime = False\n",
    "    numbers += 1\n",
    "if isPrime:\n",
    "    print(f\"The given number {num} is prime.\")\n",
    "else:\n",
    "    print(f\"The given number {num} is not prime.\")"
   ]
  },
  {
   "cell_type": "markdown",
   "id": "ab8f5fce",
   "metadata": {},
   "source": [
    "## Nested WHILE LOOPS"
   ]
  },
  {
   "cell_type": "markdown",
   "id": "4a77ba04",
   "metadata": {},
   "source": [
    "#### For given number \"N\", I have to print all the prime number between 1 to N."
   ]
  },
  {
   "cell_type": "code",
   "execution_count": 4,
   "id": "2f8716e3",
   "metadata": {},
   "outputs": [
    {
     "name": "stdout",
     "output_type": "stream",
     "text": [
      "Enter the number 'N' for print all the prime number from 1 to N: 5\n",
      "2\n",
      "3\n",
      "5\n"
     ]
    }
   ],
   "source": [
    "nValue = int(input(\"Enter the number 'N' for print all the prime number from 1 to N: \"))\n",
    "\n",
    "#Applying nested while loops to find out the primality of each number between 1 to N.\n",
    "number = 2\n",
    "while number <= nValue:\n",
    "    isPrime = True\n",
    "    nums = 2\n",
    "    while nums < number:\n",
    "        if number % nums == 0:\n",
    "            isPrime = False\n",
    "        nums += 1\n",
    "    if isPrime:\n",
    "        print(number)\n",
    "    number += 1\n"
   ]
  },
  {
   "cell_type": "markdown",
   "id": "843a9f5a",
   "metadata": {},
   "source": [
    "## PROBLEMS TO SOLVE"
   ]
  },
  {
   "cell_type": "markdown",
   "id": "f70c7cde",
   "metadata": {},
   "source": [
    "### Fahrenheit to Celsius\n",
    "#### Given three values - Start Fahrenheit Value (S), End Fahrenheit value (E) and Step Size (W), you need to convert all Fahrenheit values from Start to End at the gap of W, into their corresponding Celsius values and print the table."
   ]
  },
  {
   "cell_type": "code",
   "execution_count": 12,
   "id": "caa23e5a",
   "metadata": {},
   "outputs": [
    {
     "name": "stdout",
     "output_type": "stream",
     "text": [
      "Enter the starting value: 0\n",
      "Enter the ending value: 100\n",
      "Enter the steps value to take: 20\n",
      "0 \t -17\n",
      "20 \t -6\n",
      "40 \t 4\n",
      "60 \t 15\n",
      "80 \t 26\n",
      "100 \t 37\n"
     ]
    }
   ],
   "source": [
    "startValue = int(input(\"Enter the starting value: \"))\n",
    "endValue = int(input(\"Enter the ending value: \"))\n",
    "steps = int(input(\"Enter the steps value to take: \"))\n",
    "\n",
    "#Applying loops for findout the table:\n",
    "value = startValue\n",
    "while value <= endValue:\n",
    "    celsius = int((value - 32) * 5 / 9)\n",
    "    #If I used // than it will round the value in terms of integer 17.77 = 18.\n",
    "    #But converting using int it will return ground value to the integer 17.77 = 17.\n",
    "    print(value,\"\\t\",celsius)\n",
    "    value += steps"
   ]
  },
  {
   "cell_type": "markdown",
   "id": "290cdd14",
   "metadata": {},
   "source": [
    "### Calculator\n",
    "#### Write a program that performs the tasks of a simple calculator. The program should first take an integer as input and then based on that integer perform the task as given below.\n",
    "1. If the input is 1, then 2 integers are taken from the user and their sum is printed.\n",
    "2. If the input is 2, then 2 integers are taken from the user and their difference(1st number - 2nd number) is printed.\n",
    "3. If the input is 3, then 2 integers are taken from the user and their product is printed.\n",
    "4. If the input is 4, then 2 integers are taken from the user and the quotient obtained (on dividing 1st number by 2nd number) is printed.\n",
    "5. If the input is 5, then 2 integers are taken from the user and their remainder(1st number mod 2nd number) is printed.\n",
    "6. If the input is 6, then the program exits.\n",
    "7. For any other input, then print \"Invalid Operation\"."
   ]
  },
  {
   "cell_type": "code",
   "execution_count": 7,
   "id": "96f775f4",
   "metadata": {},
   "outputs": [
    {
     "ename": "KeyboardInterrupt",
     "evalue": "Interrupted by user",
     "output_type": "error",
     "traceback": [
      "\u001b[1;31m---------------------------------------------------------------------------\u001b[0m",
      "\u001b[1;31mKeyboardInterrupt\u001b[0m                         Traceback (most recent call last)",
      "\u001b[1;32m~\\AppData\\Local\\Temp/ipykernel_3524/4284164137.py\u001b[0m in \u001b[0;36m<module>\u001b[1;34m\u001b[0m\n\u001b[1;32m----> 1\u001b[1;33m \u001b[0mtask\u001b[0m \u001b[1;33m=\u001b[0m \u001b[0mint\u001b[0m\u001b[1;33m(\u001b[0m\u001b[0minput\u001b[0m\u001b[1;33m(\u001b[0m\u001b[1;34m\"Enter the number of task you want to perform: \"\u001b[0m\u001b[1;33m)\u001b[0m\u001b[1;33m)\u001b[0m\u001b[1;33m\u001b[0m\u001b[1;33m\u001b[0m\u001b[0m\n\u001b[0m\u001b[0;32m      2\u001b[0m \u001b[1;33m\u001b[0m\u001b[0m\n\u001b[0;32m      3\u001b[0m \u001b[1;32mwhile\u001b[0m \u001b[0mtask\u001b[0m \u001b[1;33m!=\u001b[0m \u001b[1;36m6\u001b[0m\u001b[1;33m:\u001b[0m\u001b[1;33m\u001b[0m\u001b[1;33m\u001b[0m\u001b[0m\n\u001b[0;32m      4\u001b[0m     \u001b[1;32mif\u001b[0m \u001b[0mtask\u001b[0m \u001b[1;33m>=\u001b[0m\u001b[1;36m1\u001b[0m \u001b[1;32mand\u001b[0m \u001b[0mtask\u001b[0m \u001b[1;33m<=\u001b[0m \u001b[1;36m5\u001b[0m\u001b[1;33m:\u001b[0m\u001b[1;33m\u001b[0m\u001b[1;33m\u001b[0m\u001b[0m\n\u001b[0;32m      5\u001b[0m         \u001b[0mnum1\u001b[0m \u001b[1;33m=\u001b[0m \u001b[0mint\u001b[0m\u001b[1;33m(\u001b[0m\u001b[0minput\u001b[0m\u001b[1;33m(\u001b[0m\u001b[1;34m\"Enter the number one: \"\u001b[0m\u001b[1;33m)\u001b[0m\u001b[1;33m)\u001b[0m\u001b[1;33m\u001b[0m\u001b[1;33m\u001b[0m\u001b[0m\n",
      "\u001b[1;32m~\\anaconda3\\lib\\site-packages\\ipykernel\\kernelbase.py\u001b[0m in \u001b[0;36mraw_input\u001b[1;34m(self, prompt)\u001b[0m\n\u001b[0;32m   1004\u001b[0m                 \u001b[1;34m\"raw_input was called, but this frontend does not support input requests.\"\u001b[0m\u001b[1;33m\u001b[0m\u001b[1;33m\u001b[0m\u001b[0m\n\u001b[0;32m   1005\u001b[0m             )\n\u001b[1;32m-> 1006\u001b[1;33m         return self._input_request(\n\u001b[0m\u001b[0;32m   1007\u001b[0m             \u001b[0mstr\u001b[0m\u001b[1;33m(\u001b[0m\u001b[0mprompt\u001b[0m\u001b[1;33m)\u001b[0m\u001b[1;33m,\u001b[0m\u001b[1;33m\u001b[0m\u001b[1;33m\u001b[0m\u001b[0m\n\u001b[0;32m   1008\u001b[0m             \u001b[0mself\u001b[0m\u001b[1;33m.\u001b[0m\u001b[0m_parent_ident\u001b[0m\u001b[1;33m[\u001b[0m\u001b[1;34m\"shell\"\u001b[0m\u001b[1;33m]\u001b[0m\u001b[1;33m,\u001b[0m\u001b[1;33m\u001b[0m\u001b[1;33m\u001b[0m\u001b[0m\n",
      "\u001b[1;32m~\\anaconda3\\lib\\site-packages\\ipykernel\\kernelbase.py\u001b[0m in \u001b[0;36m_input_request\u001b[1;34m(self, prompt, ident, parent, password)\u001b[0m\n\u001b[0;32m   1049\u001b[0m             \u001b[1;32mexcept\u001b[0m \u001b[0mKeyboardInterrupt\u001b[0m\u001b[1;33m:\u001b[0m\u001b[1;33m\u001b[0m\u001b[1;33m\u001b[0m\u001b[0m\n\u001b[0;32m   1050\u001b[0m                 \u001b[1;31m# re-raise KeyboardInterrupt, to truncate traceback\u001b[0m\u001b[1;33m\u001b[0m\u001b[1;33m\u001b[0m\u001b[0m\n\u001b[1;32m-> 1051\u001b[1;33m                 \u001b[1;32mraise\u001b[0m \u001b[0mKeyboardInterrupt\u001b[0m\u001b[1;33m(\u001b[0m\u001b[1;34m\"Interrupted by user\"\u001b[0m\u001b[1;33m)\u001b[0m \u001b[1;32mfrom\u001b[0m \u001b[1;32mNone\u001b[0m\u001b[1;33m\u001b[0m\u001b[1;33m\u001b[0m\u001b[0m\n\u001b[0m\u001b[0;32m   1052\u001b[0m             \u001b[1;32mexcept\u001b[0m \u001b[0mException\u001b[0m\u001b[1;33m:\u001b[0m\u001b[1;33m\u001b[0m\u001b[1;33m\u001b[0m\u001b[0m\n\u001b[0;32m   1053\u001b[0m                 \u001b[0mself\u001b[0m\u001b[1;33m.\u001b[0m\u001b[0mlog\u001b[0m\u001b[1;33m.\u001b[0m\u001b[0mwarning\u001b[0m\u001b[1;33m(\u001b[0m\u001b[1;34m\"Invalid Message:\"\u001b[0m\u001b[1;33m,\u001b[0m \u001b[0mexc_info\u001b[0m\u001b[1;33m=\u001b[0m\u001b[1;32mTrue\u001b[0m\u001b[1;33m)\u001b[0m\u001b[1;33m\u001b[0m\u001b[1;33m\u001b[0m\u001b[0m\n",
      "\u001b[1;31mKeyboardInterrupt\u001b[0m: Interrupted by user"
     ]
    }
   ],
   "source": [
    "task = int(input(\"Enter the number of task you want to perform: \"))\n",
    "\n",
    "while task != 6:\n",
    "    if task >=1 and task <= 5:\n",
    "        num1 = int(input(\"Enter the number one: \"))\n",
    "        num2 = int(input(\"Enter the number two: \"))\n",
    "        \n",
    "    #Addition Operation.\n",
    "    if task == 1:\n",
    "        print(\"The addition is:\",num1 + num2)\n",
    "    #Subtraction Operation.\n",
    "    elif task == 2:\n",
    "        print(\"The subtraction is:\",num1 - num2)\n",
    "    #Multiplication Operation.\n",
    "    elif task == 3:\n",
    "        print(\"The product is:\",num1 * num2)\n",
    "    #Divide operation.\n",
    "    elif task == 4:\n",
    "        print(\"The divide operation is:\",num1 / num2)\n",
    "    #Remainder Operation\n",
    "    elif task == 5:\n",
    "        print(\"The remainder is:\",num1 % num2)\n",
    "    else:\n",
    "        print(\"Invalid Operation ;*\")\n",
    "    \n",
    "    task = int(input(\"Enter the number of task you want to perform: \"))"
   ]
  },
  {
   "cell_type": "markdown",
   "id": "c3198d80",
   "metadata": {},
   "source": [
    "### Reverse of a number\n",
    "#### Write a program to generate the reverse of a given number N. Print the corresponding reverse number.\n",
    "Note : If a number has trailing zeros, then its reverse will not include them. For e.g., reverse of 10400 will be 401 instead of 00401."
   ]
  },
  {
   "cell_type": "code",
   "execution_count": 6,
   "id": "c5a8f9c2",
   "metadata": {},
   "outputs": [
    {
     "name": "stdout",
     "output_type": "stream",
     "text": [
      "Enter the number: 9911916228\n",
      "8226191199\n"
     ]
    }
   ],
   "source": [
    "num = int(input(\"Enter the number: \"))\n",
    "\n",
    "#Applying the loop for obtaing the reverse number.\n",
    "temp = num\n",
    "reverseNum = 0\n",
    "while temp > 0:\n",
    "    lastDigit = temp % 10\n",
    "    reverseNum = reverseNum * 10 + lastDigit\n",
    "    temp = temp // 10\n",
    "print(reverseNum)"
   ]
  },
  {
   "cell_type": "markdown",
   "id": "be120f6c",
   "metadata": {},
   "source": [
    "### Palindrome number\n",
    "#### Write a program to determine if given number is palindrome or not. Print true if it is palindrome, false otherwise.\n",
    "Palindrome are the numbers for which reverse is exactly same as the original one. For eg. 121"
   ]
  },
  {
   "cell_type": "code",
   "execution_count": 8,
   "id": "25ca0668",
   "metadata": {},
   "outputs": [
    {
     "name": "stdout",
     "output_type": "stream",
     "text": [
      "Enter the number for check is it palindrome or not?: 121\n",
      "It is palindrome\n"
     ]
    }
   ],
   "source": [
    "num = int(input(\"Enter the number for check is it palindrome or not?: \"))\n",
    "\n",
    "#Applying the loop for obtaing the reverse number.\n",
    "temp = num\n",
    "reverseNum = 0\n",
    "while temp > 0:\n",
    "    lastDigit = temp % 10\n",
    "    reverseNum = reverseNum * 10 + lastDigit\n",
    "    temp = temp // 10\n",
    "\n",
    "if reverseNum == num:\n",
    "    print(\"It is palindrome\")\n",
    "else:\n",
    "    print(\"Not palindrome\")"
   ]
  },
  {
   "cell_type": "markdown",
   "id": "68cef51f",
   "metadata": {},
   "source": [
    "### Sum of even & odd\n",
    "#### Write a program to input an integer N and print the sum of all its even digits and sum of all its odd digits separately.\n",
    "Digits mean numbers, not the places! That is, if the given integer is \"13245\", even digits are 2 & 4 and odd digits are 1, 3 & 5."
   ]
  },
  {
   "cell_type": "code",
   "execution_count": 13,
   "id": "93194770",
   "metadata": {},
   "outputs": [
    {
     "name": "stdout",
     "output_type": "stream",
     "text": [
      "Enter the number: 123456\n",
      "Even sum is: 12\n",
      "Odd sum is: 9\n"
     ]
    }
   ],
   "source": [
    "num = int(input(\"Enter the number: \"))\n",
    "\n",
    "#Applying the loop for obtaing each digit if the number.\n",
    "evenSum = 0\n",
    "oddSum = 0\n",
    "temp = num\n",
    "while temp > 0:\n",
    "    digit = temp % 10\n",
    "    \n",
    "    #Finding whether the digit is even or odd:\n",
    "    if digit % 2 == 0:\n",
    "        evenSum += digit\n",
    "    else:\n",
    "        oddSum += digit\n",
    "    \n",
    "    temp = temp // 10\n",
    "\n",
    "print(\"Even sum is:\",evenSum)\n",
    "print(\"Odd sum is:\",oddSum)\n"
   ]
  },
  {
   "cell_type": "markdown",
   "id": "1619b39c",
   "metadata": {},
   "source": [
    "### Nth Fibonacci Number\n",
    "#### Nth term of Fibonacci series F(n), where F(n) is a function, is calculated using the following formula -\n",
    "    F(n) = F(n-1) + F(n-2), \n",
    "    Where, F(1) = F(2) = 1\n",
    "Provided N you have to find out the Nth Fibonacci Number."
   ]
  },
  {
   "cell_type": "code",
   "execution_count": 24,
   "id": "03d06a54",
   "metadata": {},
   "outputs": [
    {
     "name": "stdout",
     "output_type": "stream",
     "text": [
      "Enter the nth term to find out the nth fibonacci number: 5\n",
      "The nth fibonacci number is: 5\n"
     ]
    }
   ],
   "source": [
    "nth = int(input(\"Enter the nth term to find out the nth fibonacci number: \"))\n",
    "\n",
    "if nth == 1 or nth == 2:\n",
    "    print(1)\n",
    "else:\n",
    "    f1 = 1\n",
    "    f2 = 1\n",
    "    times = 1\n",
    "    while times <= (nth - 2):\n",
    "        f3 = f1 + f2\n",
    "        f1 = f2\n",
    "        f2 = f3\n",
    "        times += 1\n",
    "\n",
    "    print(\"The nth fibonacci number is:\",f2)\n"
   ]
  },
  {
   "cell_type": "markdown",
   "id": "faa7e586",
   "metadata": {},
   "source": [
    "## ............................................................................................................................"
   ]
  },
  {
   "cell_type": "markdown",
   "id": "f555a616",
   "metadata": {},
   "source": [
    "## SQUARE PATTERN"
   ]
  },
  {
   "cell_type": "markdown",
   "id": "28bfd561",
   "metadata": {},
   "source": [
    "### Pattern Number 1."
   ]
  },
  {
   "cell_type": "code",
   "execution_count": 7,
   "id": "71c0594c",
   "metadata": {},
   "outputs": [
    {
     "name": "stdout",
     "output_type": "stream",
     "text": [
      "Enter the number of lines for the pattern: 5\n",
      "*****\n",
      "*****\n",
      "*****\n",
      "*****\n",
      "*****\n"
     ]
    }
   ],
   "source": [
    "lines = int(input(\"Enter the number of lines for the pattern: \"))\n",
    "\n",
    "row = 1\n",
    "while row <= lines:\n",
    "    column = 1\n",
    "    while column <= lines: #Because number of columns equal to number of lines.\n",
    "        print(\"*\", end=\"\")\n",
    "        column += 1\n",
    "    print()\n",
    "    row += 1"
   ]
  },
  {
   "cell_type": "markdown",
   "id": "ea371ec7",
   "metadata": {},
   "source": [
    "### Pattern Number 2."
   ]
  },
  {
   "cell_type": "code",
   "execution_count": 2,
   "id": "e9644501",
   "metadata": {},
   "outputs": [
    {
     "name": "stdout",
     "output_type": "stream",
     "text": [
      "Enter the number of lines for the pattern: 5\n",
      "11111\n",
      "22222\n",
      "33333\n",
      "44444\n",
      "55555\n"
     ]
    }
   ],
   "source": [
    "lines = int(input(\"Enter the number of lines for the pattern: \"))\n",
    "\n",
    "row = 1\n",
    "while row <= lines:\n",
    "    column = 1\n",
    "    while column <= lines:\n",
    "        print(row, end=\"\")\n",
    "        column += 1\n",
    "    print(\"\")\n",
    "    row += 1"
   ]
  },
  {
   "cell_type": "markdown",
   "id": "c45c0d19",
   "metadata": {},
   "source": [
    "### Pattern Number 3."
   ]
  },
  {
   "cell_type": "code",
   "execution_count": 3,
   "id": "1b301961",
   "metadata": {},
   "outputs": [
    {
     "name": "stdout",
     "output_type": "stream",
     "text": [
      "Enter the number of lines for the pattern: 5\n",
      "12345\n",
      "12345\n",
      "12345\n",
      "12345\n",
      "12345\n"
     ]
    }
   ],
   "source": [
    "lines = int(input(\"Enter the number of lines for the pattern: \"))\n",
    "\n",
    "row = 1\n",
    "while row <= lines:\n",
    "    column = 1\n",
    "    while column <= lines:\n",
    "        print(column, end=\"\")\n",
    "        column += 1\n",
    "    print(\"\")\n",
    "    row += 1"
   ]
  },
  {
   "cell_type": "markdown",
   "id": "17e8d51c",
   "metadata": {},
   "source": [
    "### Pattern Number 4."
   ]
  },
  {
   "cell_type": "code",
   "execution_count": 6,
   "id": "ca85d3e5",
   "metadata": {},
   "outputs": [
    {
     "name": "stdout",
     "output_type": "stream",
     "text": [
      "Enter the number of lines for the pattern: 5\n",
      "54321\n",
      "54321\n",
      "54321\n",
      "54321\n",
      "54321\n"
     ]
    }
   ],
   "source": [
    "lines = int(input(\"Enter the number of lines for the pattern: \"))\n",
    "\n",
    "row = 1\n",
    "while row <= lines:\n",
    "    column = lines\n",
    "    while column >= 1:\n",
    "        print(column, end=\"\")\n",
    "        column -= 1\n",
    "    print(\"\")\n",
    "    row += 1"
   ]
  },
  {
   "cell_type": "markdown",
   "id": "9bf04493",
   "metadata": {},
   "source": [
    "## TRAINGULAR PATTERNS"
   ]
  },
  {
   "cell_type": "markdown",
   "id": "1a48c414",
   "metadata": {},
   "source": [
    "### Pattern Number 1."
   ]
  },
  {
   "cell_type": "code",
   "execution_count": 8,
   "id": "e83ba67e",
   "metadata": {},
   "outputs": [
    {
     "name": "stdout",
     "output_type": "stream",
     "text": [
      "Enter the number of lines for the pattern: 5\n",
      "* \n",
      "* * \n",
      "* * * \n",
      "* * * * \n",
      "* * * * * \n"
     ]
    }
   ],
   "source": [
    "lines = int(input(\"Enter the number of lines for the pattern: \"))\n",
    "\n",
    "row = 1\n",
    "while row <= lines:\n",
    "    column = 1\n",
    "    while column <= row:\n",
    "        print('*', end=\" \")\n",
    "        column += 1\n",
    "    print()\n",
    "    row += 1"
   ]
  },
  {
   "cell_type": "markdown",
   "id": "7289edcc",
   "metadata": {},
   "source": [
    "### Pattern Number 2."
   ]
  },
  {
   "cell_type": "code",
   "execution_count": 9,
   "id": "fb30c430",
   "metadata": {},
   "outputs": [
    {
     "name": "stdout",
     "output_type": "stream",
     "text": [
      "Enter the number of lines for the pattern: 5\n",
      "1 \n",
      "1 2 \n",
      "1 2 3 \n",
      "1 2 3 4 \n",
      "1 2 3 4 5 \n"
     ]
    }
   ],
   "source": [
    "lines = int(input(\"Enter the number of lines for the pattern: \"))\n",
    "\n",
    "row = 1\n",
    "while row <= lines:\n",
    "    column = 1\n",
    "    while column <= row:\n",
    "        print(column, end=\" \")\n",
    "        column += 1\n",
    "    print()\n",
    "    row += 1"
   ]
  },
  {
   "cell_type": "markdown",
   "id": "a1f8b2b1",
   "metadata": {},
   "source": [
    "### Pattern Number 3."
   ]
  },
  {
   "cell_type": "code",
   "execution_count": 10,
   "id": "2614cfff",
   "metadata": {},
   "outputs": [
    {
     "name": "stdout",
     "output_type": "stream",
     "text": [
      "Enter the number of lines for the pattern: 5\n",
      "1 \n",
      "2 3 \n",
      "3 4 5 \n",
      "4 5 6 7 \n",
      "5 6 7 8 9 \n"
     ]
    }
   ],
   "source": [
    "lines = int(input(\"Enter the number of lines for the pattern: \"))\n",
    "\n",
    "row = 1\n",
    "while row <= lines:\n",
    "    column = 0\n",
    "    while column < row:\n",
    "        print(row + column, end=\" \")\n",
    "        column += 1\n",
    "    print()\n",
    "    row += 1"
   ]
  },
  {
   "cell_type": "markdown",
   "id": "e778caae",
   "metadata": {},
   "source": [
    "### Pattern Number 4."
   ]
  },
  {
   "cell_type": "code",
   "execution_count": 15,
   "id": "ef525c18",
   "metadata": {},
   "outputs": [
    {
     "name": "stdout",
     "output_type": "stream",
     "text": [
      "Enter the number of lines for the pattern: 5\n",
      "1 \n",
      "2 3 \n",
      "4 5 6 \n",
      "7 8 9 10 \n",
      "11 12 13 14 15 \n"
     ]
    }
   ],
   "source": [
    "lines = int(input(\"Enter the number of lines for the pattern: \"))\n",
    "\n",
    "row = 0\n",
    "count = 1\n",
    "while row < lines:\n",
    "    column = 0\n",
    "    while column <= row:\n",
    "        print(count, end=\" \")\n",
    "        column += 1\n",
    "        count += 1\n",
    "    print()\n",
    "    row += 1"
   ]
  },
  {
   "cell_type": "markdown",
   "id": "0474d749",
   "metadata": {},
   "source": [
    "### Pattern Number 5."
   ]
  },
  {
   "cell_type": "code",
   "execution_count": 17,
   "id": "fe21ba38",
   "metadata": {},
   "outputs": [
    {
     "name": "stdout",
     "output_type": "stream",
     "text": [
      "Enter the number of lines for the pattern: 5\n",
      "1 \n",
      "2 1 \n",
      "3 2 1 \n",
      "4 3 2 1 \n",
      "5 4 3 2 1 \n"
     ]
    }
   ],
   "source": [
    "lines = int(input(\"Enter the number of lines for the pattern: \"))\n",
    "\n",
    "row = 1\n",
    "while row <= lines:\n",
    "    column = row\n",
    "    while column >= 1:\n",
    "        print(column, end=\" \")\n",
    "        column -= 1\n",
    "    print()\n",
    "    row += 1"
   ]
  },
  {
   "cell_type": "markdown",
   "id": "497efc95",
   "metadata": {},
   "source": [
    "## CHARCTER PATTERS"
   ]
  },
  {
   "cell_type": "markdown",
   "id": "036c29d9",
   "metadata": {},
   "source": [
    "### Pattern Number 1.\n",
    "#### ord() method gives the ascii value of a charcter."
   ]
  },
  {
   "cell_type": "code",
   "execution_count": 25,
   "id": "242e7b53",
   "metadata": {},
   "outputs": [
    {
     "name": "stdout",
     "output_type": "stream",
     "text": [
      "Enter the number of lines for the pattern: 5\n",
      "A B C D E \n",
      "A B C D E \n",
      "A B C D E \n",
      "A B C D E \n",
      "A B C D E \n"
     ]
    }
   ],
   "source": [
    "lines = int(input(\"Enter the number of lines for the pattern: \"))\n",
    "\n",
    "# row = 1\n",
    "# while row <= lines:\n",
    "#     column = 0\n",
    "#     while column < lines:\n",
    "#         value = chr(65 + column)\n",
    "#         print(value, end=\" \")\n",
    "#         column += 1\n",
    "#     print()\n",
    "#     row += 1\n",
    "    \n",
    "#Another method is like:\n",
    "asciiValue = ord('A')\n",
    "row = 1\n",
    "while row <= lines:\n",
    "    column = 0\n",
    "    while column < lines:\n",
    "        char = chr(asciiValue + column)\n",
    "        print(char, end=\" \")\n",
    "        column += 1\n",
    "    print()\n",
    "    row += 1"
   ]
  },
  {
   "cell_type": "markdown",
   "id": "ae7b0fc1",
   "metadata": {},
   "source": [
    "### Pattern Number 2."
   ]
  },
  {
   "cell_type": "code",
   "execution_count": 23,
   "id": "3e2dbb61",
   "metadata": {},
   "outputs": [
    {
     "name": "stdout",
     "output_type": "stream",
     "text": [
      "Enter the number of lines for the pattern: 5\n",
      "A B C D E \n",
      "B C D E F \n",
      "C D E F G \n",
      "D E F G H \n",
      "E F G H I \n"
     ]
    }
   ],
   "source": [
    "lines = int(input(\"Enter the number of lines for the pattern: \"))\n",
    "\n",
    "row = 0\n",
    "while row < lines:\n",
    "    column = 0\n",
    "    while column < lines:\n",
    "        value = chr(65 + column + row)\n",
    "        print(value, end=\" \")\n",
    "        column += 1\n",
    "    print()\n",
    "    row += 1"
   ]
  },
  {
   "cell_type": "markdown",
   "id": "b8f1e186",
   "metadata": {},
   "source": [
    "### Pattern Number 3."
   ]
  },
  {
   "cell_type": "code",
   "execution_count": 28,
   "id": "91be6780",
   "metadata": {},
   "outputs": [
    {
     "name": "stdout",
     "output_type": "stream",
     "text": [
      "Enter the number of lines for the pattern: 5\n",
      "A \n",
      "B B \n",
      "C C C \n",
      "D D D D \n",
      "E E E E E \n"
     ]
    }
   ],
   "source": [
    "lines = int(input(\"Enter the number of lines for the pattern: \"))\n",
    "\n",
    "row = 1\n",
    "while row <= lines:\n",
    "    column = 1\n",
    "    while column <= row:\n",
    "        print(chr(ord('A') + (row-1)), end=\" \")\n",
    "        column += 1\n",
    "    print()\n",
    "    row += 1"
   ]
  },
  {
   "cell_type": "markdown",
   "id": "6599971e",
   "metadata": {},
   "source": [
    "### Pattern Number 4."
   ]
  },
  {
   "cell_type": "code",
   "execution_count": 29,
   "id": "f32d79a0",
   "metadata": {},
   "outputs": [
    {
     "name": "stdout",
     "output_type": "stream",
     "text": [
      "Enter the number of lines for the pattern: 5\n",
      "A \n",
      "B C \n",
      "D E F \n",
      "G H I J \n",
      "K L M N O \n"
     ]
    }
   ],
   "source": [
    "lines = int(input(\"Enter the number of lines for the pattern: \"))\n",
    "\n",
    "row = 1\n",
    "count = 0\n",
    "while row <= lines:\n",
    "    column = 1\n",
    "    while column <= row:\n",
    "        print(chr(ord('A') + count), end=\" \")\n",
    "        column += 1\n",
    "        count += 1\n",
    "    print()\n",
    "    row += 1"
   ]
  },
  {
   "cell_type": "markdown",
   "id": "387a5415",
   "metadata": {},
   "source": [
    "### Pattern Number 5."
   ]
  },
  {
   "cell_type": "code",
   "execution_count": 31,
   "id": "16fa6b8b",
   "metadata": {},
   "outputs": [
    {
     "name": "stdout",
     "output_type": "stream",
     "text": [
      "Enter the number of lines for the pattern: 5\n",
      "A \n",
      "B C \n",
      "C D E \n",
      "D E F G \n",
      "E F G H I \n"
     ]
    }
   ],
   "source": [
    "lines = int(input(\"Enter the number of lines for the pattern: \"))\n",
    "\n",
    "row = 1\n",
    "while row <= lines:\n",
    "    column = 0\n",
    "    while column < row:\n",
    "        print(chr(ord('A') + row-1 + column), end=\" \")\n",
    "        column += 1\n",
    "    print()\n",
    "    row += 1"
   ]
  },
  {
   "cell_type": "markdown",
   "id": "da06d308",
   "metadata": {},
   "source": [
    "## INVERTED ALPHABETS"
   ]
  },
  {
   "cell_type": "markdown",
   "id": "09f36007",
   "metadata": {},
   "source": [
    "### Pattern Number 1."
   ]
  },
  {
   "cell_type": "code",
   "execution_count": 2,
   "id": "a4747921",
   "metadata": {},
   "outputs": [
    {
     "name": "stdout",
     "output_type": "stream",
     "text": [
      "Enter the number of lines for the pattern: 5\n",
      "* * * * * \n",
      "* * * * \n",
      "* * * \n",
      "* * \n",
      "* \n"
     ]
    }
   ],
   "source": [
    "lines = int(input(\"Enter the number of lines for the pattern: \"))\n",
    "\n",
    "row = 0\n",
    "while row < lines:\n",
    "    column = 1\n",
    "    while column <= lines - row:\n",
    "        print(\"*\", end=\" \")\n",
    "        column += 1\n",
    "    print()\n",
    "    row += 1"
   ]
  },
  {
   "cell_type": "markdown",
   "id": "101cb97a",
   "metadata": {},
   "source": [
    "### Pattern Number 2."
   ]
  },
  {
   "cell_type": "code",
   "execution_count": 6,
   "id": "81983c27",
   "metadata": {},
   "outputs": [
    {
     "name": "stdout",
     "output_type": "stream",
     "text": [
      "Enter the number of lines for the pattern: 5\n",
      "5 5 5 5 5 \n",
      "4 4 4 4 \n",
      "3 3 3 \n",
      "2 2 \n",
      "1 \n"
     ]
    }
   ],
   "source": [
    "lines = int(input(\"Enter the number of lines for the pattern: \"))\n",
    "\n",
    "row = 0\n",
    "while row < lines:\n",
    "    column = 1\n",
    "    while column <= lines - row:\n",
    "        print(lines - row, end=\" \")\n",
    "        column += 1\n",
    "    print()\n",
    "    row += 1"
   ]
  },
  {
   "cell_type": "markdown",
   "id": "7a7ed46b",
   "metadata": {},
   "source": [
    "## REVERSED PATTERN"
   ]
  },
  {
   "cell_type": "markdown",
   "id": "9e7683dc",
   "metadata": {},
   "source": [
    "### Pattern Number 1."
   ]
  },
  {
   "cell_type": "code",
   "execution_count": 8,
   "id": "789f84e2",
   "metadata": {},
   "outputs": [
    {
     "name": "stdout",
     "output_type": "stream",
     "text": [
      "Enter the number of lines you want to print: 5\n",
      "     * \n",
      "    ** \n",
      "   *** \n",
      "  **** \n",
      " ***** \n"
     ]
    }
   ],
   "source": [
    "lines = int(input(\"Enter the number of lines you want to print: \"))\n",
    "\n",
    "row = 0\n",
    "while row < lines:\n",
    "    #To print spaces first in the pattern.\n",
    "    space = 0\n",
    "    while space < lines - row:\n",
    "        print(\" \", end=\"\")\n",
    "        space += 1\n",
    "    \n",
    "    #To print the stars next to spaces\n",
    "    column = 0\n",
    "    while column <= row:\n",
    "        print(\"*\", end=\"\")\n",
    "        column += 1\n",
    "    print(\" \")\n",
    "    row += 1"
   ]
  },
  {
   "cell_type": "markdown",
   "id": "73e1982c",
   "metadata": {},
   "source": [
    "### Pattern Number 2."
   ]
  },
  {
   "cell_type": "code",
   "execution_count": 11,
   "id": "a774e9e1",
   "metadata": {},
   "outputs": [
    {
     "name": "stdout",
     "output_type": "stream",
     "text": [
      "Enter the number of lines you want to print: 5\n",
      "     1 \n",
      "    12 \n",
      "   123 \n",
      "  1234 \n",
      " 12345 \n"
     ]
    }
   ],
   "source": [
    "lines = int(input(\"Enter the number of lines you want to print: \"))\n",
    "\n",
    "row = 0\n",
    "while row < lines:\n",
    "    #To print spaces first in the pattern.\n",
    "    space = 0\n",
    "    while space < lines - row:\n",
    "        print(\" \", end=\"\")\n",
    "        space += 1\n",
    "    \n",
    "    #To print the stars next to spaces\n",
    "    column = 0\n",
    "    while column <= row:\n",
    "        print(column + 1, end=\"\")\n",
    "        column += 1\n",
    "    print(\" \")\n",
    "    row += 1"
   ]
  },
  {
   "cell_type": "markdown",
   "id": "fb02334b",
   "metadata": {},
   "source": [
    "## ISOSCELES PATTERNS"
   ]
  },
  {
   "cell_type": "markdown",
   "id": "a2dec3da",
   "metadata": {},
   "source": [
    "### Pattern Number 1."
   ]
  },
  {
   "cell_type": "code",
   "execution_count": 13,
   "id": "9e5d63fc",
   "metadata": {},
   "outputs": [
    {
     "name": "stdout",
     "output_type": "stream",
     "text": [
      "Enter the number of lines for the patter: 5\n",
      "        1 \n",
      "        1 2 2 \n",
      "        1 2 3 3 2 \n",
      "        1 2 3 4 4 3 2 \n",
      "        1 2 3 4 5 5 4 3 2 \n"
     ]
    }
   ],
   "source": [
    "lines = int(input(\"Enter the number of lines for the patter: \"))\n",
    "\n",
    "row = 1\n",
    "while row <= lines:\n",
    "    #For print the spaces first.\n",
    "    space = 0\n",
    "    while space <  (lines - 1):\n",
    "        print(\" \", end=\" \")\n",
    "        space += 1\n",
    "    #For printing the patterns.\n",
    "    col1 = 1\n",
    "    while col1 <= row:\n",
    "        print(col1, end=\" \")\n",
    "        col1 += 1\n",
    "    #For printing the second pattern.\n",
    "    col2 = row\n",
    "    while col2 > 1:\n",
    "        print(col2, end=\" \")\n",
    "        col2 -= 1\n",
    "    print()\n",
    "    row += 1\n"
   ]
  },
  {
   "cell_type": "markdown",
   "id": "5cbbb007",
   "metadata": {},
   "source": [
    "## FOR LOOPS \n",
    "### Definate Loops"
   ]
  },
  {
   "cell_type": "code",
   "execution_count": 1,
   "id": "2c73e1b9",
   "metadata": {},
   "outputs": [
    {
     "name": "stdout",
     "output_type": "stream",
     "text": [
      "Enter your name here: Keshav Vashishta\n",
      "K\n",
      "e\n",
      "s\n",
      "h\n",
      "a\n",
      "v\n",
      " \n",
      "V\n",
      "a\n",
      "s\n",
      "h\n",
      "i\n",
      "s\n",
      "h\n",
      "t\n",
      "a\n"
     ]
    }
   ],
   "source": [
    "name = input(\"Enter your name here: \")\n",
    "\n",
    "#In keyword is used to indicate things in a group or list or in range.\n",
    "for letters in name:\n",
    "    print(letters)"
   ]
  },
  {
   "cell_type": "code",
   "execution_count": 6,
   "id": "569e872d",
   "metadata": {},
   "outputs": [
    {
     "name": "stdout",
     "output_type": "stream",
     "text": [
      "Enter the number untill which you have to print the natural numbers: 10\n",
      "1 2 3 4 5 6 7 8 9 10 "
     ]
    }
   ],
   "source": [
    "#Print natural number in range of 1 to num.\n",
    "num = int(input(\"Enter the number untill which you have to print the natural numbers: \"))\n",
    "\n",
    "#Here I will use range() function.\n",
    "#Range function has three inputs in it: start, stop and stride.\n",
    "#Start point is inclusive, etop point is exclusive.\n",
    "#Stride basically means how do you want to go from start to stop like adding 1 from start or multiply with 2 from start.\n",
    "\n",
    "for numbers in range(1, num+1, 1): #Here 1 shows that we will add 1 in start point.\n",
    "    print(numbers, end=\" \")"
   ]
  },
  {
   "cell_type": "code",
   "execution_count": 7,
   "id": "1f0a28a6",
   "metadata": {},
   "outputs": [
    {
     "name": "stdout",
     "output_type": "stream",
     "text": [
      "Enter the number untill which you have to print the natural numbers: 10\n",
      "0 1 2 3 4 5 6 7 8 9 10 "
     ]
    }
   ],
   "source": [
    "num = int(input(\"Enter the number untill which you have to print the natural numbers: \"))\n",
    "\n",
    "for numbers in range(num+1):\n",
    "    #By default the start point is 0 and the stride/step point is 1.\n",
    "    print(numbers, end=\" \")"
   ]
  },
  {
   "cell_type": "code",
   "execution_count": 8,
   "id": "6b926472",
   "metadata": {},
   "outputs": [
    {
     "name": "stdout",
     "output_type": "stream",
     "text": [
      "Enter the number untill which you have to print the natural numbers: 5\n"
     ]
    }
   ],
   "source": [
    "#By default the range function will take first argument as start and second input as stop.\n",
    "num = int(input(\"Enter the number untill which you have to print the natural numbers: \"))\n",
    "\n",
    "for numbers in range(num+1, 1):\n",
    "    print(numbers, end=\" \")"
   ]
  },
  {
   "cell_type": "code",
   "execution_count": 11,
   "id": "dde99db4",
   "metadata": {},
   "outputs": [
    {
     "name": "stdout",
     "output_type": "stream",
     "text": [
      "Enter the number: 10\n",
      "10 9 8 7 6 5 4 3 2 1 "
     ]
    }
   ],
   "source": [
    "#Try to print the number from N to 1.\n",
    "n = int(input(\"Enter the number: \"))\n",
    "\n",
    "for numbers in range(n, 0, -1):\n",
    "    print(numbers, end=\" \")"
   ]
  },
  {
   "cell_type": "markdown",
   "id": "d13ca815",
   "metadata": {},
   "source": [
    "#### Print multiple of three between two numbers."
   ]
  },
  {
   "cell_type": "code",
   "execution_count": 2,
   "id": "faa1ab24",
   "metadata": {},
   "outputs": [
    {
     "name": "stdout",
     "output_type": "stream",
     "text": [
      "Enter the first number: 1\n",
      "Enter the second number: 55\n",
      "3\n",
      "6\n",
      "9\n",
      "12\n",
      "15\n",
      "18\n",
      "21\n",
      "24\n",
      "27\n",
      "30\n",
      "33\n",
      "36\n",
      "39\n",
      "42\n",
      "45\n",
      "48\n",
      "51\n",
      "54\n"
     ]
    }
   ],
   "source": [
    "num1 = int(input(\"Enter the first number: \"))\n",
    "num2 = int(input(\"Enter the second number: \"))\n",
    "\n",
    "for numbers in range(num1, num2+1):\n",
    "    if numbers % 3 == 0:\n",
    "        print(numbers)"
   ]
  },
  {
   "cell_type": "markdown",
   "id": "32bb2418",
   "metadata": {},
   "source": [
    "#### Terms of AP.\n",
    "Write a program to print first x terms of the series 3N + 2 which are not multiples of 4."
   ]
  },
  {
   "cell_type": "code",
   "execution_count": 4,
   "id": "41f40772",
   "metadata": {},
   "outputs": [
    {
     "name": "stdout",
     "output_type": "stream",
     "text": [
      "Enter the number: 10\n",
      "5 11 14 17 23 26 29 35 38 41 "
     ]
    }
   ],
   "source": [
    "nth = int(input(\"Enter the number: \"))\n",
    "\n",
    "count = 1\n",
    "while count <=  nth:\n",
    "    answer = (3 * count) + 2\n",
    "    if answer % 4 != 0:\n",
    "        print(answer, end=\" \")\n",
    "    else:\n",
    "        nth += 1\n",
    "    count += 1\n",
    "    \n",
    "#When I was using the for loop the mistake was happened is was that in range() function the value of nth is not changes inside range()"
   ]
  },
  {
   "cell_type": "markdown",
   "id": "a3824f5f",
   "metadata": {},
   "source": [
    "#### If the number is Prime?"
   ]
  },
  {
   "cell_type": "code",
   "execution_count": 10,
   "id": "7b1001cf",
   "metadata": {},
   "outputs": [
    {
     "name": "stdout",
     "output_type": "stream",
     "text": [
      "Enter the number to check it's primarility: 25\n",
      "False\n"
     ]
    }
   ],
   "source": [
    "number = int(input(\"Enter the number to check it's primarility: \"))\n",
    "\n",
    "for numbers in range(2, number):\n",
    "    if number % numbers == 0:\n",
    "        print(\"False\")\n",
    "        break\n",
    "        "
   ]
  },
  {
   "cell_type": "markdown",
   "id": "b5c58a1d",
   "metadata": {},
   "source": [
    "#### Pattern"
   ]
  },
  {
   "cell_type": "code",
   "execution_count": 13,
   "id": "c2a9c5ee",
   "metadata": {},
   "outputs": [
    {
     "name": "stdout",
     "output_type": "stream",
     "text": [
      "Enter the number of lines: 5\n",
      "        1 \n",
      "      2 3 2 \n",
      "    3 4 5 4 3 \n",
      "  4 5 6 7 6 5 4 \n",
      "5 6 7 8 9 8 7 6 5 \n"
     ]
    }
   ],
   "source": [
    "lines = int(input(\"Enter the number of lines: \"))\n",
    "\n",
    "for line in range(1, lines+1):\n",
    "    for space in range(lines-line):\n",
    "        print(\" \", end=\" \")\n",
    "    for number in range(line, 2 * line):\n",
    "        print(number, end=\" \")\n",
    "    for number in range (2 * line - 2, line - 1, -1):\n",
    "        print(number, end=\" \")\n",
    "    print()"
   ]
  },
  {
   "cell_type": "markdown",
   "id": "5b0b7990",
   "metadata": {},
   "source": [
    "#### SUM OR PRODUCT"
   ]
  },
  {
   "cell_type": "code",
   "execution_count": 16,
   "id": "e9aa56f0",
   "metadata": {},
   "outputs": [
    {
     "name": "stdout",
     "output_type": "stream",
     "text": [
      "Enter the number: 5\n",
      "Enter the choice: \n",
      "1 for sum\n",
      "2 for product\n",
      "2\n",
      "120\n"
     ]
    }
   ],
   "source": [
    "nth = int(input(\"Enter the number: \"))\n",
    "choice = int(input(\"Enter the choice: \\n1 for sum\\n2 for product: \"))\n",
    "\n",
    "sum = 0\n",
    "product = 1\n",
    "\n",
    "if choice == 1:\n",
    "    for nums in range(1, nth+1):\n",
    "        sum += nums\n",
    "    print(sum)\n",
    "elif choice == 2:\n",
    "    for nums in range(1, nth+1):\n",
    "        product *= nums\n",
    "    print(product)\n",
    "else:\n",
    "    print(\"-1\")"
   ]
  },
  {
   "cell_type": "markdown",
   "id": "c1625ef4",
   "metadata": {},
   "source": [
    "#### Square Root Integral"
   ]
  },
  {
   "cell_type": "code",
   "execution_count": 18,
   "id": "b542b7ae",
   "metadata": {},
   "outputs": [
    {
     "name": "stdout",
     "output_type": "stream",
     "text": [
      "Enter the number: 99\n",
      "The integral square root of the number 99 is: 9\n"
     ]
    }
   ],
   "source": [
    "num = int(input(\"Enter the number: \"))\n",
    "\n",
    "sqRoot = 0\n",
    "for numbers in range(1, num):\n",
    "    if numbers * numbers <= num:\n",
    "        sqRoot = numbers\n",
    "    else:\n",
    "        break\n",
    "print(f\"The integral square root of the number {num} is: {sqRoot}\")"
   ]
  },
  {
   "cell_type": "markdown",
   "id": "b99a141b",
   "metadata": {},
   "source": [
    "### Loops and Else Statement"
   ]
  },
  {
   "cell_type": "code",
   "execution_count": 25,
   "id": "2ceb2ffa",
   "metadata": {},
   "outputs": [
    {
     "name": "stdout",
     "output_type": "stream",
     "text": [
      "Enter the number: 6\n",
      "1\n",
      "2\n",
      "3\n",
      "4\n",
      "5\n",
      "6\n",
      "This will execute in the last\n",
      "\n",
      "Break when 7 encounters: \n",
      "1\n",
      "2\n",
      "3\n",
      "4\n",
      "5\n",
      "6\n",
      "This will only printed if the input number is less than 7\n"
     ]
    }
   ],
   "source": [
    "#Loop will terminate only if two things happen:\n",
    "# 1. Condition of loop is completed or false\n",
    "# 2.When break keyword encounter.\n",
    "\n",
    "#Else statement only executed after the loop if loop is terminated by condition of the loop not by break keyword.\n",
    "num = int(input(\"Enter the number: \"))\n",
    "\n",
    "nums = 1\n",
    "while nums <= num:\n",
    "    print(nums)\n",
    "    nums += 1\n",
    "else:\n",
    "    print(\"This will execute in the last\\n\\nBreak when 7 encounters: \")\n",
    "    \n",
    "for nums in range(1, num+1):\n",
    "    if nums == 7:\n",
    "            break\n",
    "    else:\n",
    "        print(nums)\n",
    "else:\n",
    "    print(\"This will only printed if the input number is less than 7\")"
   ]
  },
  {
   "cell_type": "markdown",
   "id": "c0095497",
   "metadata": {},
   "source": [
    "#### Use of Loop and Else statement together"
   ]
  },
  {
   "cell_type": "code",
   "execution_count": 31,
   "id": "a9c5d1b8",
   "metadata": {},
   "outputs": [
    {
     "name": "stdout",
     "output_type": "stream",
     "text": [
      "Enter the number: 29\n",
      "The given number 29 is prime.\n"
     ]
    }
   ],
   "source": [
    "#Print the number is prime\n",
    "num = int(input(\"Enter the number: \"))\n",
    "\n",
    "for nums in range(2, num):\n",
    "    if num % nums == 0:\n",
    "        break\n",
    "else:\n",
    "    print(f\"The given number {num} is prime.\")"
   ]
  },
  {
   "cell_type": "markdown",
   "id": "f23f95e5",
   "metadata": {},
   "source": [
    "#### Continue"
   ]
  },
  {
   "cell_type": "code",
   "execution_count": 32,
   "id": "b6c3043f",
   "metadata": {},
   "outputs": [
    {
     "name": "stdout",
     "output_type": "stream",
     "text": [
      "1 2 "
     ]
    },
    {
     "ename": "KeyboardInterrupt",
     "evalue": "",
     "output_type": "error",
     "traceback": [
      "\u001b[1;31m---------------------------------------------------------------------------\u001b[0m",
      "\u001b[1;31mKeyboardInterrupt\u001b[0m                         Traceback (most recent call last)",
      "\u001b[1;32m~\\AppData\\Local\\Temp/ipykernel_16860/1912866267.py\u001b[0m in \u001b[0;36m<module>\u001b[1;34m\u001b[0m\n\u001b[0;32m      2\u001b[0m \u001b[1;32mwhile\u001b[0m \u001b[0mi\u001b[0m\u001b[1;33m<\u001b[0m\u001b[1;36m5\u001b[0m\u001b[1;33m:\u001b[0m\u001b[1;33m\u001b[0m\u001b[1;33m\u001b[0m\u001b[0m\n\u001b[0;32m      3\u001b[0m     \u001b[1;32mif\u001b[0m \u001b[0mi\u001b[0m\u001b[1;33m==\u001b[0m\u001b[1;36m3\u001b[0m\u001b[1;33m:\u001b[0m\u001b[1;33m\u001b[0m\u001b[1;33m\u001b[0m\u001b[0m\n\u001b[1;32m----> 4\u001b[1;33m             \u001b[1;32mcontinue\u001b[0m\u001b[1;33m\u001b[0m\u001b[1;33m\u001b[0m\u001b[0m\n\u001b[0m\u001b[0;32m      5\u001b[0m     \u001b[0mprint\u001b[0m\u001b[1;33m(\u001b[0m\u001b[0mi\u001b[0m\u001b[1;33m,\u001b[0m\u001b[0mend\u001b[0m\u001b[1;33m=\u001b[0m\u001b[1;34m\" \"\u001b[0m\u001b[1;33m)\u001b[0m\u001b[1;33m\u001b[0m\u001b[1;33m\u001b[0m\u001b[0m\n\u001b[0;32m      6\u001b[0m     \u001b[0mi\u001b[0m \u001b[1;33m=\u001b[0m \u001b[0mi\u001b[0m \u001b[1;33m+\u001b[0m \u001b[1;36m1\u001b[0m\u001b[1;33m\u001b[0m\u001b[1;33m\u001b[0m\u001b[0m\n",
      "\u001b[1;31mKeyboardInterrupt\u001b[0m: "
     ]
    }
   ],
   "source": [
    "i=1\n",
    "while i<5:\n",
    "    if i==3:\n",
    "            continue\n",
    "    print(i,end=\" \")\n",
    "    i = i + 1\n",
    "#Produce Infinite looop."
   ]
  },
  {
   "cell_type": "code",
   "execution_count": 34,
   "id": "4e00ff91",
   "metadata": {},
   "outputs": [
    {
     "name": "stdout",
     "output_type": "stream",
     "text": [
      "1 2 4 5 1 2 4 5 "
     ]
    }
   ],
   "source": [
    "i=1\n",
    "while i<3:\n",
    "    j=0\n",
    "    while j<5:\n",
    "        j = j +1\n",
    "        if j==3:\n",
    "            continue\n",
    "        print(j,end=\" \")\n",
    "    i = i +1"
   ]
  },
  {
   "cell_type": "markdown",
   "id": "a0b58f30",
   "metadata": {},
   "source": [
    "### Pass Statement"
   ]
  },
  {
   "cell_type": "code",
   "execution_count": 35,
   "id": "c7248976",
   "metadata": {},
   "outputs": [
    {
     "ename": "IndentationError",
     "evalue": "expected an indented block (Temp/ipykernel_16860/1619195044.py, line 4)",
     "output_type": "error",
     "traceback": [
      "\u001b[1;36m  File \u001b[1;32m\"C:\\Users\\Keshav Vashishta\\AppData\\Local\\Temp/ipykernel_16860/1619195044.py\"\u001b[1;36m, line \u001b[1;32m4\u001b[0m\n\u001b[1;33m    print(\"Hey\")\u001b[0m\n\u001b[1;37m    ^\u001b[0m\n\u001b[1;31mIndentationError\u001b[0m\u001b[1;31m:\u001b[0m expected an indented block\n"
     ]
    }
   ],
   "source": [
    "num = 5\n",
    "if num < 3:\n",
    "    \n",
    "print(\"Hey\")"
   ]
  },
  {
   "cell_type": "markdown",
   "id": "c845843a",
   "metadata": {},
   "source": [
    "#### Pass statment work with: if, else, elif, while and for loop."
   ]
  },
  {
   "cell_type": "code",
   "execution_count": 1,
   "id": "2f172c25",
   "metadata": {},
   "outputs": [
    {
     "name": "stdout",
     "output_type": "stream",
     "text": [
      "Hey\n"
     ]
    }
   ],
   "source": [
    "num = 5\n",
    "if num < 3:\n",
    "   pass \n",
    "print(\"Hey\")"
   ]
  },
  {
   "cell_type": "markdown",
   "id": "ed2305a0",
   "metadata": {},
   "source": [
    "### Assignment"
   ]
  },
  {
   "cell_type": "markdown",
   "id": "46a42224",
   "metadata": {},
   "source": [
    "#### Decimal to Binary"
   ]
  },
  {
   "cell_type": "code",
   "execution_count": 3,
   "id": "1f6b4e6f",
   "metadata": {},
   "outputs": [
    {
     "name": "stdout",
     "output_type": "stream",
     "text": [
      "Enter the deicmal number: 2608\n",
      "The binary conversion of deciaml number 0 is: 101000110000\n"
     ]
    }
   ],
   "source": [
    "num = int(input(\"Enter the deicmal number: \"))\n",
    "\n",
    "binary = 0\n",
    "power = 1\n",
    "\n",
    "while num > 0:\n",
    "    bit = num % 2\n",
    "    binary += (bit * power)\n",
    "    num = num // 2\n",
    "    power *= 10\n",
    "print(f\"The binary conversion of deciaml number {num} is: {binary}\")\n",
    "\n",
    "\n",
    "\n",
    "# num = int(input())\n",
    "\n",
    "# output = 0\n",
    "# mulby = 1\n",
    "# while num > 0:\n",
    "#     remainder = num % 2\n",
    "#     output = (remainder * mulby) + output\n",
    "#     # Mistake area.\n",
    "#     num = num/2\n",
    "#     mulby *= 10\n",
    "    \n",
    "# print(output)"
   ]
  },
  {
   "cell_type": "markdown",
   "id": "e7fa6f50",
   "metadata": {},
   "source": [
    "#### Binary to Decimal"
   ]
  },
  {
   "cell_type": "code",
   "execution_count": 5,
   "id": "f873e83d",
   "metadata": {},
   "outputs": [
    {
     "name": "stdout",
     "output_type": "stream",
     "text": [
      "Enter the binary number: 110101110\n",
      "The conversion of binary number 0 into decimal is: 430\n"
     ]
    }
   ],
   "source": [
    "binary = int(input(\"Enter the binary number: \"))\n",
    "\n",
    "decimal = 0\n",
    "power = 1\n",
    "while binary > 0:\n",
    "    bit = binary % 10\n",
    "    decimal += (power * bit)\n",
    "    binary = binary // 10\n",
    "    power *= 2\n",
    "print(f\"The conversion of binary number {binary} into decimal is: {decimal}\")"
   ]
  },
  {
   "cell_type": "markdown",
   "id": "50caf344",
   "metadata": {},
   "source": [
    "#### Given a number N find the sum of all the even valued terms in the fibonacci sequence less than or equal to N. Try generating only even fibonacci numbers instead of iterating over all Fibonacci numbers."
   ]
  },
  {
   "cell_type": "code",
   "execution_count": 6,
   "id": "9a424352",
   "metadata": {},
   "outputs": [
    {
     "name": "stdout",
     "output_type": "stream",
     "text": [
      "Enter the  number: 45\n",
      "44\n"
     ]
    }
   ],
   "source": [
    "nth = int(input(\"Enter the  number: \"))\n",
    "\n",
    "first = 0\n",
    "second = 1\n",
    "sum = 0\n",
    "while True:\n",
    "    third = first + second\n",
    "    if third % 2 == 0 and third < nth:\n",
    "        sum += third\n",
    "    if third > nth:\n",
    "        break\n",
    "        \n",
    "    first = second\n",
    "    second = third\n",
    "\n",
    "print(sum)"
   ]
  },
  {
   "cell_type": "code",
   "execution_count": null,
   "id": "dd44ea21",
   "metadata": {},
   "outputs": [],
   "source": []
  }
 ],
 "metadata": {
  "kernelspec": {
   "display_name": "Python 3 (ipykernel)",
   "language": "python",
   "name": "python3"
  },
  "language_info": {
   "codemirror_mode": {
    "name": "ipython",
    "version": 3
   },
   "file_extension": ".py",
   "mimetype": "text/x-python",
   "name": "python",
   "nbconvert_exporter": "python",
   "pygments_lexer": "ipython3",
   "version": "3.9.7"
  }
 },
 "nbformat": 4,
 "nbformat_minor": 5
}
