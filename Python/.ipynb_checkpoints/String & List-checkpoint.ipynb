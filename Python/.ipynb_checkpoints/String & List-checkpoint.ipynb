{
 "cells": [
  {
   "cell_type": "markdown",
   "id": "21a06176",
   "metadata": {},
   "source": [
    "# Strings"
   ]
  },
  {
   "cell_type": "code",
   "execution_count": 4,
   "id": "e7ee1531",
   "metadata": {},
   "outputs": [
    {
     "name": "stdout",
     "output_type": "stream",
     "text": [
      "Keshav Vashishta\n"
     ]
    }
   ],
   "source": [
    "str1 = \"Keshav\"\n",
    "str2 = 'Vashishta'\n",
    "print(str1 +\" \"+ str2)"
   ]
  },
  {
   "cell_type": "code",
   "execution_count": 5,
   "id": "6892ecc7",
   "metadata": {},
   "outputs": [
    {
     "data": {
      "text/plain": [
       "str"
      ]
     },
     "execution_count": 5,
     "metadata": {},
     "output_type": "execute_result"
    }
   ],
   "source": [
    "char = 'a'\n",
    "type(char)"
   ]
  },
  {
   "cell_type": "code",
   "execution_count": 9,
   "id": "5310b878",
   "metadata": {},
   "outputs": [
    {
     "name": "stdout",
     "output_type": "stream",
     "text": [
      "K\n",
      "h\n"
     ]
    }
   ],
   "source": [
    "print(str1[0])\n",
    "print(str2[6])\n"
   ]
  },
  {
   "cell_type": "markdown",
   "id": "14ecdb5e",
   "metadata": {},
   "source": [
    "#### Iteration in String"
   ]
  },
  {
   "cell_type": "code",
   "execution_count": 12,
   "id": "70eebbd4",
   "metadata": {},
   "outputs": [
    {
     "name": "stdout",
     "output_type": "stream",
     "text": [
      "K\n",
      "e\n",
      "s\n",
      "h\n",
      "a\n",
      "v\n"
     ]
    }
   ],
   "source": [
    "for chars in str1:\n",
    "    print(chars)"
   ]
  },
  {
   "cell_type": "markdown",
   "id": "c46b64eb",
   "metadata": {},
   "source": [
    "#### String are Immutable, they can't be changed, we can make a new string and make our variable pointing toward the new string."
   ]
  },
  {
   "cell_type": "code",
   "execution_count": 14,
   "id": "309e74a5",
   "metadata": {},
   "outputs": [],
   "source": [
    "str1 = \"What is it?\"\n",
    "#str1 variable stores the address value of the string \"What is it?\"\n",
    "\n",
    "str1 = \"error?\"\n",
    "#Now str1 is storing the address value of the string \"error?\"\n",
    "#So the respective strings are same, they can't change insted we make our variable to point to another string."
   ]
  },
  {
   "cell_type": "markdown",
   "id": "a79e1490",
   "metadata": {},
   "source": [
    "#### Making quote problem solved in the sentences"
   ]
  },
  {
   "cell_type": "code",
   "execution_count": 16,
   "id": "ac1993e7",
   "metadata": {},
   "outputs": [
    {
     "ename": "SyntaxError",
     "evalue": "invalid syntax (Temp/ipykernel_24896/3475538524.py, line 1)",
     "output_type": "error",
     "traceback": [
      "\u001b[1;36m  File \u001b[1;32m\"C:\\Users\\Keshav Vashishta\\AppData\\Local\\Temp/ipykernel_24896/3475538524.py\"\u001b[1;36m, line \u001b[1;32m1\u001b[0m\n\u001b[1;33m    str1 = 'This is Keshav's laptop'\u001b[0m\n\u001b[1;37m                           ^\u001b[0m\n\u001b[1;31mSyntaxError\u001b[0m\u001b[1;31m:\u001b[0m invalid syntax\n"
     ]
    }
   ],
   "source": [
    "str1 = 'This is Keshav's laptop'\n",
    "#This will give error because python can't find out the closing quote after keshav's v."
   ]
  },
  {
   "cell_type": "code",
   "execution_count": 41,
   "id": "365dce76",
   "metadata": {},
   "outputs": [],
   "source": [
    "#One way to solved it is by using external double quote.\n",
    "str1 = \"This is Keshav's laptop.\"\n",
    "\n",
    "#Another way to solve this is by using \"\\\" which say's python that it is not closing quote of the string.\n",
    "str1 = 'This is Keshav\\'s laptop' \n",
    "str2 = 'Laptop says \"Hello Sir\"' "
   ]
  },
  {
   "cell_type": "code",
   "execution_count": 42,
   "id": "82a42b90",
   "metadata": {},
   "outputs": [
    {
     "data": {
      "text/plain": [
       "(\"This is Keshav's laptop\", 'Laptop says \"Hello Sir\"')"
      ]
     },
     "execution_count": 42,
     "metadata": {},
     "output_type": "execute_result"
    }
   ],
   "source": [
    "str1 ,str2"
   ]
  },
  {
   "cell_type": "code",
   "execution_count": 43,
   "id": "989db561",
   "metadata": {},
   "outputs": [
    {
     "data": {
      "text/plain": [
       "'This is Keshav\\'s laptop Laptop says \"Hello Sir\"'"
      ]
     },
     "execution_count": 43,
     "metadata": {},
     "output_type": "execute_result"
    }
   ],
   "source": [
    "str1 +\" \"+ str2"
   ]
  },
  {
   "cell_type": "code",
   "execution_count": 44,
   "id": "08e25c80",
   "metadata": {},
   "outputs": [],
   "source": [
    "str1 = (str1 + \" \" + str2)"
   ]
  },
  {
   "cell_type": "code",
   "execution_count": 45,
   "id": "fa159e60",
   "metadata": {},
   "outputs": [
    {
     "data": {
      "text/plain": [
       "'This is Keshav\\'s laptop Laptop says \"Hello Sir\"'"
      ]
     },
     "execution_count": 45,
     "metadata": {},
     "output_type": "execute_result"
    }
   ],
   "source": [
    "str1\n"
   ]
  },
  {
   "cell_type": "markdown",
   "id": "56cee1da",
   "metadata": {},
   "source": [
    "#### To check an compare content of the string"
   ]
  },
  {
   "cell_type": "code",
   "execution_count": 46,
   "id": "c6f8d0e8",
   "metadata": {},
   "outputs": [
    {
     "data": {
      "text/plain": [
       "False"
      ]
     },
     "execution_count": 46,
     "metadata": {},
     "output_type": "execute_result"
    }
   ],
   "source": [
    "str1 == str2"
   ]
  },
  {
   "cell_type": "code",
   "execution_count": 47,
   "id": "59fc3b53",
   "metadata": {},
   "outputs": [
    {
     "data": {
      "text/plain": [
       "True"
      ]
     },
     "execution_count": 47,
     "metadata": {},
     "output_type": "execute_result"
    }
   ],
   "source": [
    "str1 > str2"
   ]
  },
  {
   "cell_type": "code",
   "execution_count": 48,
   "id": "b7cf2482",
   "metadata": {},
   "outputs": [
    {
     "data": {
      "text/plain": [
       "False"
      ]
     },
     "execution_count": 48,
     "metadata": {},
     "output_type": "execute_result"
    }
   ],
   "source": [
    "str1 < str2"
   ]
  },
  {
   "cell_type": "markdown",
   "id": "e147ab44",
   "metadata": {},
   "source": [
    "### Split Function"
   ]
  },
  {
   "cell_type": "markdown",
   "id": "9f9be6a4",
   "metadata": {},
   "source": [
    "#### Split function return list which contain the parts of the String\n",
    "It's default split around the whitespace.\n",
    "We can also define in which we want to split the string."
   ]
  },
  {
   "cell_type": "code",
   "execution_count": 49,
   "id": "4df29347",
   "metadata": {},
   "outputs": [
    {
     "data": {
      "text/plain": [
       "['This', 'is', \"Keshav's\", 'laptop', 'Laptop', 'says', '\"Hello', 'Sir\"']"
      ]
     },
     "execution_count": 49,
     "metadata": {},
     "output_type": "execute_result"
    }
   ],
   "source": [
    "str1.split()"
   ]
  },
  {
   "cell_type": "code",
   "execution_count": 63,
   "id": "51f20617",
   "metadata": {},
   "outputs": [
    {
     "data": {
      "text/plain": [
       "'keshavvashisth123'"
      ]
     },
     "execution_count": 63,
     "metadata": {},
     "output_type": "execute_result"
    }
   ],
   "source": [
    "email = \"keshavvashisth123@gmail.com\"\n",
    "emailPartList = email.split('@')\n",
    "username = emailPartList[0]\n",
    "username"
   ]
  },
  {
   "cell_type": "markdown",
   "id": "61447c28",
   "metadata": {},
   "source": [
    "### Replace function"
   ]
  },
  {
   "cell_type": "markdown",
   "id": "ce8717ff",
   "metadata": {},
   "source": [
    "#### We can use replace(\"want to replace\", \"what you want to replace with\") function."
   ]
  },
  {
   "cell_type": "code",
   "execution_count": 77,
   "id": "304e4aba",
   "metadata": {},
   "outputs": [
    {
     "name": "stdout",
     "output_type": "stream",
     "text": [
      "keshavvashisth123@gmail.com\n"
     ]
    },
    {
     "data": {
      "text/plain": [
       "'keshavvashisth123@ask.com'"
      ]
     },
     "execution_count": 77,
     "metadata": {},
     "output_type": "execute_result"
    }
   ],
   "source": [
    "email = \"keshavvashisth123@gmail.com\"\n",
    "print(email)\n",
    "email.replace(\"gmail\", \"ask\")\n",
    "#Replace will not change the original string, it will return a new string."
   ]
  },
  {
   "cell_type": "markdown",
   "id": "f27d4c65",
   "metadata": {},
   "source": [
    "### Basic Function"
   ]
  },
  {
   "cell_type": "markdown",
   "id": "5ace756b",
   "metadata": {},
   "source": [
    "#### Find function will return the index of the substring present in the string."
   ]
  },
  {
   "cell_type": "code",
   "execution_count": 79,
   "id": "c466bc4c",
   "metadata": {},
   "outputs": [
    {
     "data": {
      "text/plain": [
       "18"
      ]
     },
     "execution_count": 79,
     "metadata": {},
     "output_type": "execute_result"
    }
   ],
   "source": [
    "email.find('gmail')"
   ]
  },
  {
   "cell_type": "code",
   "execution_count": 80,
   "id": "19cfd9a6",
   "metadata": {},
   "outputs": [
    {
     "data": {
      "text/plain": [
       "'keshavvashisth123@gmail.com'"
      ]
     },
     "execution_count": 80,
     "metadata": {},
     "output_type": "execute_result"
    }
   ],
   "source": [
    "email.lower()"
   ]
  },
  {
   "cell_type": "code",
   "execution_count": 81,
   "id": "924d8b0f",
   "metadata": {},
   "outputs": [
    {
     "data": {
      "text/plain": [
       "'KESHAVVASHISTH123@GMAIL.COM'"
      ]
     },
     "execution_count": 81,
     "metadata": {},
     "output_type": "execute_result"
    }
   ],
   "source": [
    "email.upper()"
   ]
  },
  {
   "cell_type": "code",
   "execution_count": 83,
   "id": "dad155fe",
   "metadata": {},
   "outputs": [
    {
     "data": {
      "text/plain": [
       "True"
      ]
     },
     "execution_count": 83,
     "metadata": {},
     "output_type": "execute_result"
    }
   ],
   "source": [
    "email.islower()"
   ]
  },
  {
   "cell_type": "code",
   "execution_count": 84,
   "id": "ebdb653a",
   "metadata": {},
   "outputs": [
    {
     "data": {
      "text/plain": [
       "False"
      ]
     },
     "execution_count": 84,
     "metadata": {},
     "output_type": "execute_result"
    }
   ],
   "source": [
    "email.isupper()"
   ]
  },
  {
   "cell_type": "code",
   "execution_count": 85,
   "id": "631fd6ef",
   "metadata": {},
   "outputs": [
    {
     "data": {
      "text/plain": [
       "False"
      ]
     },
     "execution_count": 85,
     "metadata": {},
     "output_type": "execute_result"
    }
   ],
   "source": [
    "email.startswith(\"Ä\")"
   ]
  },
  {
   "cell_type": "code",
   "execution_count": 87,
   "id": "300ec50b",
   "metadata": {},
   "outputs": [
    {
     "data": {
      "text/plain": [
       "False"
      ]
     },
     "execution_count": 87,
     "metadata": {},
     "output_type": "execute_result"
    }
   ],
   "source": [
    "#It will check if the sting contain all the alphabets or not?\n",
    "email.isalpha()"
   ]
  },
  {
   "cell_type": "markdown",
   "id": "345c8db5",
   "metadata": {},
   "source": [
    "### Problem Question"
   ]
  },
  {
   "cell_type": "code",
   "execution_count": 88,
   "id": "b9869a7c",
   "metadata": {},
   "outputs": [
    {
     "name": "stdout",
     "output_type": "stream",
     "text": [
      "abcd\n"
     ]
    }
   ],
   "source": [
    "s = \"abcd\"\n",
    "s.upper()\n",
    "print(s)  \n",
    "#s.upper() returns a new object and doesn’t make changes in original string object."
   ]
  },
  {
   "cell_type": "code",
   "execution_count": 90,
   "id": "30452ee0",
   "metadata": {},
   "outputs": [
    {
     "ename": "TypeError",
     "evalue": "can only concatenate str (not \"int\") to str",
     "output_type": "error",
     "traceback": [
      "\u001b[1;31m---------------------------------------------------------------------------\u001b[0m",
      "\u001b[1;31mTypeError\u001b[0m                                 Traceback (most recent call last)",
      "\u001b[1;32m~\\AppData\\Local\\Temp/ipykernel_24896/1497010398.py\u001b[0m in \u001b[0;36m<module>\u001b[1;34m\u001b[0m\n\u001b[0;32m      1\u001b[0m \u001b[0ms\u001b[0m \u001b[1;33m=\u001b[0m \u001b[1;34m\"abcd\"\u001b[0m\u001b[1;33m\u001b[0m\u001b[1;33m\u001b[0m\u001b[0m\n\u001b[1;32m----> 2\u001b[1;33m \u001b[0mprint\u001b[0m\u001b[1;33m(\u001b[0m\u001b[0ms\u001b[0m \u001b[1;33m+\u001b[0m \u001b[1;36m12\u001b[0m\u001b[1;33m)\u001b[0m\u001b[1;33m\u001b[0m\u001b[1;33m\u001b[0m\u001b[0m\n\u001b[0m\u001b[0;32m      3\u001b[0m \u001b[1;31m#You can’t add an integer value to a string. The right way to add will be s + str(12) i.e. convert 12 to string first and then add.\u001b[0m\u001b[1;33m\u001b[0m\u001b[1;33m\u001b[0m\u001b[0m\n",
      "\u001b[1;31mTypeError\u001b[0m: can only concatenate str (not \"int\") to str"
     ]
    }
   ],
   "source": [
    "s = \"abcd\"\n",
    "print(s + 12)\n",
    "#You can’t add an integer value to a string. The right way to add will be s + str(12) i.e. convert 12 to string first and then add."
   ]
  },
  {
   "cell_type": "markdown",
   "id": "e346d47b",
   "metadata": {},
   "source": [
    "### Slicing Funtion"
   ]
  },
  {
   "cell_type": "code",
   "execution_count": 92,
   "id": "3e782916",
   "metadata": {},
   "outputs": [
    {
     "data": {
      "text/plain": [
       "'is '"
      ]
     },
     "execution_count": 92,
     "metadata": {},
     "output_type": "execute_result"
    }
   ],
   "source": [
    "str1 = \"this is slicing\"\n",
    "str1[2:5]"
   ]
  },
  {
   "cell_type": "code",
   "execution_count": 93,
   "id": "4fb9c250",
   "metadata": {},
   "outputs": [
    {
     "data": {
      "text/plain": [
       "'is sl'"
      ]
     },
     "execution_count": 93,
     "metadata": {},
     "output_type": "execute_result"
    }
   ],
   "source": [
    "str1[5:10]"
   ]
  },
  {
   "cell_type": "code",
   "execution_count": 94,
   "id": "263379f3",
   "metadata": {},
   "outputs": [
    {
     "data": {
      "text/plain": [
       "'is is slicing'"
      ]
     },
     "execution_count": 94,
     "metadata": {},
     "output_type": "execute_result"
    }
   ],
   "source": [
    "#Return the forward values.\n",
    "str1[2:]"
   ]
  },
  {
   "cell_type": "code",
   "execution_count": 95,
   "id": "0d2e045a",
   "metadata": {},
   "outputs": [
    {
     "data": {
      "text/plain": [
       "'this'"
      ]
     },
     "execution_count": 95,
     "metadata": {},
     "output_type": "execute_result"
    }
   ],
   "source": [
    "#Retrun the values before the index\n",
    "str1[:4]"
   ]
  },
  {
   "cell_type": "code",
   "execution_count": 97,
   "id": "529a9f6b",
   "metadata": {},
   "outputs": [
    {
     "data": {
      "text/plain": [
       "'this is slicing'"
      ]
     },
     "execution_count": 97,
     "metadata": {},
     "output_type": "execute_result"
    }
   ],
   "source": [
    "#Return whole string\n",
    "str1[:]"
   ]
  },
  {
   "cell_type": "code",
   "execution_count": 100,
   "id": "e4d33e83",
   "metadata": {},
   "outputs": [
    {
     "data": {
      "text/plain": [
       "'ti ss'"
      ]
     },
     "execution_count": 100,
     "metadata": {},
     "output_type": "execute_result"
    }
   ],
   "source": [
    "#Here we can define in last section to skip the substring from starting index to end index in between.\n",
    "#Skip means jump the index value by given number.\n",
    "str1[0:10:2]"
   ]
  },
  {
   "cell_type": "code",
   "execution_count": 108,
   "id": "e9d0c866",
   "metadata": {},
   "outputs": [
    {
     "data": {
      "text/plain": [
       "'ils si s'"
      ]
     },
     "execution_count": 108,
     "metadata": {},
     "output_type": "execute_result"
    }
   ],
   "source": [
    "str1[10:2:-1]\n",
    "#By using -1 we skip backwards."
   ]
  },
  {
   "cell_type": "code",
   "execution_count": 109,
   "id": "5f67e860",
   "metadata": {},
   "outputs": [
    {
     "data": {
      "text/plain": [
       "'ils si sih'"
      ]
     },
     "execution_count": 109,
     "metadata": {},
     "output_type": "execute_result"
    }
   ],
   "source": [
    "str1[10:0:-1]"
   ]
  },
  {
   "cell_type": "markdown",
   "id": "7708b481",
   "metadata": {},
   "source": [
    "#### Program to replace a specific charachter first occurence from the input string."
   ]
  },
  {
   "cell_type": "code",
   "execution_count": 4,
   "id": "e3e23a0b",
   "metadata": {},
   "outputs": [
    {
     "name": "stdout",
     "output_type": "stream",
     "text": [
      "Enter the word: Keshav\n"
     ]
    },
    {
     "data": {
      "text/plain": [
       "'Keshaa'"
      ]
     },
     "execution_count": 4,
     "metadata": {},
     "output_type": "execute_result"
    }
   ],
   "source": [
    "str1 = input(\"Enter the word: \")\n",
    "a = \"v\"\n",
    "b = \"a\"\n",
    "isPresent = str1.find(a)\n",
    "output = \" \"\n",
    "if isPresent != -1:\n",
    "    output = str1[:isPresent] + b + str1[isPresent+1:]\n",
    "output"
   ]
  },
  {
   "cell_type": "markdown",
   "id": "37c17db0",
   "metadata": {},
   "source": [
    "#### Program to replace a specific charachter all occurence from the input string."
   ]
  },
  {
   "cell_type": "code",
   "execution_count": 5,
   "id": "4a1e6af1",
   "metadata": {},
   "outputs": [
    {
     "name": "stdout",
     "output_type": "stream",
     "text": [
      "Enter the word: I am keshav vashishta\n"
     ]
    },
    {
     "data": {
      "text/plain": [
       "'I am keshaa aashishta'"
      ]
     },
     "execution_count": 5,
     "metadata": {},
     "output_type": "execute_result"
    }
   ],
   "source": [
    "str1 = input(\"Enter the word: \")\n",
    "a = 'v'\n",
    "b = 'a'\n",
    "output = str1\n",
    "for index in range(0, len(output)):\n",
    "    if output[index] == a:\n",
    "        output = output[ :index] + b + output[index+1: ]\n",
    "output"
   ]
  },
  {
   "cell_type": "markdown",
   "id": "8d7d7556",
   "metadata": {},
   "source": [
    "#### -1 corresponds to the last index."
   ]
  },
  {
   "cell_type": "code",
   "execution_count": 6,
   "id": "168ffc06",
   "metadata": {},
   "outputs": [
    {
     "name": "stdout",
     "output_type": "stream",
     "text": [
      "o\n"
     ]
    }
   ],
   "source": [
    "str1 = 'hello'\n",
    "print(str1[-1:])"
   ]
  },
  {
   "cell_type": "code",
   "execution_count": 7,
   "id": "64ebe173",
   "metadata": {},
   "outputs": [
    {
     "data": {
      "text/plain": [
       "'gh'"
      ]
     },
     "execution_count": 7,
     "metadata": {},
     "output_type": "execute_result"
    }
   ],
   "source": [
    "s = \"abcdefghi\"\n",
    "s[-3:-1]\n",
    "\n",
    "#Format: str[start_index: last_index]\n",
    "# s[-3:-1]\n",
    "# Here, -3 means it will start from third last element and slice till the last index (-1) but not including it. So it will output “gh”."
   ]
  },
  {
   "cell_type": "code",
   "execution_count": null,
   "id": "b2f0486a",
   "metadata": {},
   "outputs": [],
   "source": []
  }
 ],
 "metadata": {
  "kernelspec": {
   "display_name": "Python 3 (ipykernel)",
   "language": "python",
   "name": "python3"
  },
  "language_info": {
   "codemirror_mode": {
    "name": "ipython",
    "version": 3
   },
   "file_extension": ".py",
   "mimetype": "text/x-python",
   "name": "python",
   "nbconvert_exporter": "python",
   "pygments_lexer": "ipython3",
   "version": "3.9.7"
  }
 },
 "nbformat": 4,
 "nbformat_minor": 5
}
